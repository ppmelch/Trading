{
 "cells": [
  {
   "cell_type": "markdown",
   "id": "ff51ea78",
   "metadata": {},
   "source": [
    "# Microestructura y Sistemas de Trading\n",
    "##  Tarea 3\n",
    "\n",
    "- José Armando Melchor Soto\n"
   ]
  },
  {
   "cell_type": "markdown",
   "id": "c22d55d0",
   "metadata": {},
   "source": [
    "---"
   ]
  },
  {
   "cell_type": "markdown",
   "id": "cf345cbd",
   "metadata": {},
   "source": [
    "### Librerías "
   ]
  },
  {
   "cell_type": "code",
   "execution_count": null,
   "id": "8dfc2adf",
   "metadata": {},
   "outputs": [],
   "source": [
    "import pandas as pd\n",
    "import numpy as np\n",
    "import matplotlib.pyplot as plt"
   ]
  },
  {
   "cell_type": "markdown",
   "id": "4694c2ba",
   "metadata": {},
   "source": [
    "---"
   ]
  }
 ],
 "metadata": {
  "language_info": {
   "name": "python"
  }
 },
 "nbformat": 4,
 "nbformat_minor": 5
}
