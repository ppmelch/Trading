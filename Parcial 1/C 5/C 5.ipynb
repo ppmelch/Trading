{
 "cells": [
  {
   "cell_type": "markdown",
   "id": "ddde6361",
   "metadata": {},
   "source": [
    "# Microestructura y Sistemas de Trading\n",
    "### Generalized Linear Models (GLM's)\n",
    "\n",
    "- José Armando Melchor Soto\n",
    "\n"
   ]
  },
  {
   "cell_type": "markdown",
   "id": "393d6afe",
   "metadata": {},
   "source": [
    "---"
   ]
  },
  {
   "cell_type": "markdown",
   "id": "a6b0011b",
   "metadata": {},
   "source": []
  }
 ],
 "metadata": {
  "language_info": {
   "name": "python"
  }
 },
 "nbformat": 4,
 "nbformat_minor": 5
}
