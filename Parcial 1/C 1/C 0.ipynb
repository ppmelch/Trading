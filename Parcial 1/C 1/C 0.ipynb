{
 "cells": [
  {
   "cell_type": "markdown",
   "id": "e6b09018",
   "metadata": {},
   "source": [
    "# Microestructura y Sistemas de Trading\n",
    "## Introduction to Markets\n",
    "\n",
    "José Armando Melchor Soto\n"
   ]
  },
  {
   "cell_type": "markdown",
   "id": "624a0b35",
   "metadata": {},
   "source": [
    "---"
   ]
  },
  {
   "cell_type": "markdown",
   "id": "642fc486",
   "metadata": {},
   "source": [
    "### Market Process\n",
    "- An investor who wishes to trade immediately does so by placing a market order to trade at the best available price.\n",
    "- Bid and ask prices are established by suppliers of immediacy.\n",
    "- Depending on the market design suppliers of immediacy may be professional dealers that quote bid and ask prices or investors that place limit orders , or some combination.\n",
    "\n",
    "### Types of markets\n",
    "- Market for information: supply & demand information\n",
    "- Market for securities : determination of securities prices\n",
    ". Market for ....\n",
    "\n",
    "### Elements in a Market\n",
    "- Investors: Individual(retail) investors and institutional investors such as pension plans and mutual funds\n",
    "- Brokers and dealers: ...\n",
    "- Market facility : \n",
    "\n",
    "### "
   ]
  },
  {
   "cell_type": "markdown",
   "id": "bb712825",
   "metadata": {},
   "source": [
    "---"
   ]
  },
  {
   "cell_type": "markdown",
   "id": "67593f64",
   "metadata": {},
   "source": []
  }
 ],
 "metadata": {
  "kernelspec": {
   "display_name": "Python 3",
   "language": "python",
   "name": "python3"
  },
  "language_info": {
   "codemirror_mode": {
    "name": "ipython",
    "version": 3
   },
   "file_extension": ".py",
   "mimetype": "text/x-python",
   "name": "python",
   "nbconvert_exporter": "python",
   "pygments_lexer": "ipython3",
   "version": "3.13.5"
  }
 },
 "nbformat": 4,
 "nbformat_minor": 5
}
