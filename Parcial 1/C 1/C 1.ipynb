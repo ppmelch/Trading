{
 "cells": [
  {
   "cell_type": "markdown",
   "id": "33711f8b",
   "metadata": {},
   "source": [
<<<<<<< HEAD
    "# Microestructura y Sistemas de Trading\n",
    "## Market Microstructure: Market Makers\n",
=======
    "# Administración de Riesgo\n",
    "## Introducción \n",
>>>>>>> b31fa606e2571a708a64cc1fe8510e11d17b77f6
    "\n",
    "José Armando Melchor Soto\n"
   ]
  },
  {
   "cell_type": "markdown",
   "id": "8e32ec3a",
   "metadata": {},
   "source": [
    "---"
   ]
  },
  {
   "cell_type": "markdown",
<<<<<<< HEAD
   "id": "99ec6a48",
   "metadata": {},
   "source": [
    "## What is a market maker ?\n",
    "\n",
    "- Market markers are liquidity providers that quote prices to buy or sell an asset , while also serving as a dealer , reducing transaction costs and facilitating trades.\n",
    "\n",
    "- They hold large amounts of stocks and are wiling to buy/sell at the quoted price, this way they provide loquidity for the retail investors.\n",
    "\n",
    "- Since they facilitate trades with a bid/ask quote , they get to profit from spreads."
   ]
  },
  {
   "cell_type": "markdown",
   "id": "1b32f0da",
   "metadata": {},
   "source": [
    "## Types of traders\n",
    "- **Informed traders**: They know what prices should be , or have information that others don't , through research (not insider information)\n",
    "\n",
    "- **Liquidity traders**: Investors , or long-term traders that don't mind paying spreads to buy stocks , ETF's or 401k cashouts.\n",
    "\n",
    "- **Noisy traders**: They think they have something special, but they don't."
   ]
  },
  {
   "cell_type": "markdown",
   "id": "39e759da",
   "metadata": {},
   "source": [
    "## Market makers profit\n"
   ]
  },
  {
   "cell_type": "markdown",
   "id": "b8310210",
   "metadata": {},
   "source": [
    "| Type of traders | Profit |\n",
    "|--------|--------------|\n",
    "| Informed traders   | -      |\n",
    "| Liquidity traders   | +          |\n",
    "| Noisy traders | +        |\n"
   ]
  },
  {
   "cell_type": "markdown",
   "id": "1b29ed40",
   "metadata": {},
   "source": [
    "## Publicity available information\n",
    "- Reports (earnings calls, inflation rates, bonds, etc.)\n",
    "\n",
    "- News articles\n",
    "\n",
    "- Journals"
   ]
  },
  {
   "cell_type": "markdown",
   "id": "c98fe1f1",
   "metadata": {},
   "source": [
    "---"
   ]
  },
  {
   "cell_type": "markdown",
   "id": "3e59d425",
   "metadata": {},
   "source": [
    "\n",
    "## Market Microstructure: Effective Spread\n",
    "\n",
    "\n"
   ]
  },
  {
   "cell_type": "markdown",
   "id": "e647bc93",
   "metadata": {},
   "source": [
    "---"
   ]
  },
  {
   "cell_type": "markdown",
   "id": "4f2088cf",
   "metadata": {},
   "source": [
    "## Introduction \n",
    "\n",
    "- The field of market microstructure deals with the costs of providing transaction services and with the impact of such cost on short run behavior of securities prices.\n",
    "\n",
    "- Costs are reflected in the bid-ask spread (and related measures) and commissions."
   ]
  },
  {
   "cell_type": "markdown",
   "id": "02c8754e",
   "metadata": {},
   "source": [
    "## Spread  \n",
    "-  The spread can be measured as the difference between bid and ask prices.\n",
    "\n",
    "### Calculating the spread\n",
    "- If we define the spread as :\n",
    "$$S= P_A - P_B$$\n",
    "\n",
    "\n",
    "### Effective spread\n",
    "- Richard Roll proposes a simple way to measure the effective bid-ask spread by just using historical data.\n",
    "\n",
    "- However , this requires two main assumptions.\n",
    "\n",
    "    - The asset is traded in an informationally efficient market.\n",
    "\n",
    "    - The probability of distribution of observer prices change is stationary.\n",
    "\n"
   ]
  },
  {
   "cell_type": "markdown",
   "id": "0c05c5fa",
=======
   "id": "67593f64",
>>>>>>> b31fa606e2571a708a64cc1fe8510e11d17b77f6
   "metadata": {},
   "source": [
    "### ¿Qué es la Administración de Riesgos?\n"
   ]
  },
  {
   "cell_type": "markdown",
   "id": "6a2d24d1",
   "metadata": {},
   "source": [
    "\" La idea revolucionaria que define la frontera entre los tiempos modernos y el pasado es el dominio del riesgo: la noción de que el futuro no es un capricho de los dioses y que el hombre y la mujer no son seres pasivos frente a la naturaleza\"  - Peter L.Berstein"
   ]
  },
  {
   "cell_type": "markdown",
   "id": "338489e8",
   "metadata": {},
   "source": [
    "- ¿cuales son los pasos que se siguen en la administración de riesgo?\n",
    "    - Objetivos: Tener claro los objetivos que tiene la empresa , y encontrar a donde va la empresa.\n",
    "    - Identificar tus riesgos, presente en todas las organizaciones y tener una visión multidisciplinaria y dinámica.\n",
    "    - Identificar al responsable. ¿Quién es está ligado al riesgo?\n",
    "    - Acción que mitigue ese riesgo\n",
    "    - Notar el cambio que hay en el entorno \n",
    "\n",
    "- ¿cual es la diferencia en el manera en la que administran los riesgos las empresas del sector publico , en contra de las empresas privadas?\n",
    "\n",
    "    - El público te premia el no errar.\n",
    "    - El privado te premia el acierto en cuestión de riesgo.  "
   ]
  },
  {
   "cell_type": "markdown",
   "id": "d140b2aa",
   "metadata": {},
   "source": []
  }
 ],
 "metadata": {
  "kernelspec": {
   "display_name": "Python 3",
   "language": "python",
   "name": "python3"
  },
  "language_info": {
   "name": "python",
   "version": "3.13.5"
  }
 },
 "nbformat": 4,
 "nbformat_minor": 5
}
