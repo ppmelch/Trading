{
 "cells": [
  {
   "cell_type": "markdown",
   "id": "33711f8b",
   "metadata": {},
   "source": [
    "# Microestructura y Sistemas de Trading\n",
    "## --\n",
    "\n",
    "José Armando Melchor Soto\n"
   ]
  },
  {
   "cell_type": "markdown",
   "id": "8e32ec3a",
   "metadata": {},
   "source": [
    "---"
   ]
  },
  {
   "cell_type": "markdown",
   "id": "99ec6a48",
   "metadata": {},
   "source": [
    "## What is a market maker ?\n",
    "\n",
    "- Market markers are liquidity providers that quote prices to buy or sell an asset , while also serving as a dealer , reducing transaction costs and facilitating trades.\n",
    "\n",
    "- They hold large amounts of stocks and are wiling to buy/sell at the quoted price, this way they provide loquidity for the retail investors.\n",
    "\n",
    "- Since they facilitate trades with a bid/ask quote , they get to profit from spreads."
   ]
  },
  {
   "cell_type": "markdown",
   "id": "1b32f0da",
   "metadata": {},
   "source": [
    "## Types of traders\n",
    "- **Informed traders**: They know what prices should be , or have information that others don't , through research (not insider information)\n",
    "\n",
    "- **Liquidity traders**: Investors , or long-term traders that don't mind paying spreads to buy stocks , ETF's or 401k cashouts.\n",
    "\n",
    "- **Noisy traders**: They think they have something special, but they don't."
   ]
  },
  {
   "cell_type": "markdown",
   "id": "39e759da",
   "metadata": {},
   "source": [
    "## Market makers profit\n"
   ]
  },
  {
   "cell_type": "markdown",
   "id": "b8310210",
   "metadata": {},
   "source": [
    "| Type of traders | Profit |\n",
    "|--------|--------------|\n",
    "| Informed traders   | -      |\n",
    "| Liquidity traders   | +          |\n",
    "| Noisy traders | +        |\n"
   ]
  },
  {
   "cell_type": "markdown",
   "id": "1b29ed40",
   "metadata": {},
   "source": [
    "## Publicity available information\n",
    "- Reports (earnings calls, inflation rates, bonds, etc.)\n",
    "\n",
    "- News articles\n",
    "\n",
    "- Journals"
   ]
  },
  {
   "cell_type": "markdown",
   "id": "a98386e8",
   "metadata": {},
   "source": []
  }
 ],
 "metadata": {
  "kernelspec": {
   "display_name": "Python 3",
   "language": "python",
   "name": "python3"
  },
  "language_info": {
   "name": "python",
   "version": "3.13.5"
  }
 },
 "nbformat": 4,
 "nbformat_minor": 5
}
