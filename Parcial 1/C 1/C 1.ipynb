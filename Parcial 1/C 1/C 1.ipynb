{
 "cells": [
  {
   "cell_type": "markdown",
   "id": "e6b09018",
   "metadata": {},
   "source": [
    "# Administración de Riesgo\n",
    "## Introducción \n",
    "\n",
    "José Armando Melchor Soto\n"
   ]
  },
  {
   "cell_type": "markdown",
   "id": "624a0b35",
   "metadata": {},
   "source": [
    "---"
   ]
  },
  {
   "cell_type": "markdown",
   "id": "67593f64",
   "metadata": {},
   "source": [
    "### ¿Qué es la Administración de Riesgos?\n"
   ]
  },
  {
   "cell_type": "markdown",
   "id": "6a2d24d1",
   "metadata": {},
   "source": [
    "\" La idea revolucionaria que define la frontera entre los tiempos modernos y el pasado es el dominio del riesgo: la noción de que el futuro no es un capricho de los dioses y que el hombre y la mujer no son seres pasivos frente a la naturaleza\"  - Peter L.Berstein"
   ]
  },
  {
   "cell_type": "markdown",
   "id": "338489e8",
   "metadata": {},
   "source": [
    "- ¿cuales son los pasos que se siguen en la administración de riesgo?\n",
    "    - Objetivos: Tener claro los objetivos que tiene la empresa , y encontrar a donde va la empresa.\n",
    "    - Identificar tus riesgos, presente en todas las organizaciones y tener una visión multidisciplinaria y dinámica.\n",
    "    - Identificar al responsable. ¿Quién es está ligado al riesgo?\n",
    "    - Acción que mitigue ese riesgo\n",
    "    - Notar el cambio que hay en el entorno \n",
    "\n",
    "- ¿cual es la diferencia en el manera en la que administran los riesgos las empresas del sector publico , en contra de las empresas privadas?\n",
    "\n",
    "    - El público te premia el no errar.\n",
    "    - El privado te premia el acierto en cuestión de riesgo.  "
   ]
  },
  {
   "cell_type": "markdown",
   "id": "d140b2aa",
   "metadata": {},
   "source": []
  }
 ],
 "metadata": {
  "kernelspec": {
   "display_name": "Python 3",
   "language": "python",
   "name": "python3"
  },
  "language_info": {
   "codemirror_mode": {
    "name": "ipython",
    "version": 3
   },
   "file_extension": ".py",
   "mimetype": "text/x-python",
   "name": "python",
   "nbconvert_exporter": "python",
   "pygments_lexer": "ipython3",
   "version": "3.13.5"
  }
 },
 "nbformat": 4,
 "nbformat_minor": 5
}
