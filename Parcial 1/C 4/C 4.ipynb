{
 "cells": [
  {
   "cell_type": "markdown",
   "id": "57f4e59e",
   "metadata": {},
   "source": [
    "# Microestructura y Sistemas de Trading\n",
    "## Technical Analysis\n",
    "\n",
    "- José Armando Melchor Soto\n"
   ]
  },
  {
   "cell_type": "markdown",
   "id": "72633e8a",
   "metadata": {},
   "source": [
    "---"
   ]
  },
  {
   "cell_type": "markdown",
   "id": "6ee42d96",
   "metadata": {},
   "source": [
    "#### Librerias \n"
   ]
  },
  {
   "cell_type": "code",
   "execution_count": 56,
   "id": "9568e78e",
   "metadata": {},
   "outputs": [],
   "source": [
    "import pandas as pd\n",
    "import matplotlib.pyplot as plt\n",
    "import seaborn as sns\n",
    "import ta\n",
    "\n",
    "sns.set(style=\"darkgrid\")"
   ]
  },
  {
   "cell_type": "code",
   "execution_count": 57,
   "id": "f4d7af9b",
   "metadata": {},
   "outputs": [
    {
     "name": "stdout",
     "output_type": "stream",
     "text": [
      "<class 'pandas.core.frame.DataFrame'>\n",
      "Index: 39160 entries, 0 to 39577\n",
      "Data columns (total 9 columns):\n",
      " #   Column      Non-Null Count  Dtype  \n",
      "---  ------      --------------  -----  \n",
      " 0   Unnamed: 0  39160 non-null  int64  \n",
      " 1   Timestamp   39160 non-null  int64  \n",
      " 2   Gmtoffset   39160 non-null  int64  \n",
      " 3   Datetime    39160 non-null  object \n",
      " 4   Open        39160 non-null  float64\n",
      " 5   High        39160 non-null  float64\n",
      " 6   Low         39160 non-null  float64\n",
      " 7   Close       39160 non-null  float64\n",
      " 8   Volume      39160 non-null  float64\n",
      "dtypes: float64(5), int64(3), object(1)\n",
      "memory usage: 3.0+ MB\n"
     ]
    }
   ],
   "source": [
    "df = pd.read_csv('aapl_5m_train.csv').dropna()\n",
    "df.info()"
   ]
  },
  {
   "cell_type": "markdown",
   "id": "08962e53",
   "metadata": {},
   "source": [
    "#### TA"
   ]
  },
  {
   "cell_type": "code",
   "execution_count": 58,
   "id": "31d07fa3",
   "metadata": {},
   "outputs": [],
   "source": [
    "rsi_indicator = ta.momentum.RSIIndicator(df['Close'], window=20)\n",
    "df['rsi']= rsi_indicator.rsi()"
   ]
  },
  {
   "cell_type": "code",
   "execution_count": 59,
   "id": "d85dc9ed",
   "metadata": {},
   "outputs": [
    {
     "name": "stderr",
     "output_type": "stream",
     "text": [
      "C:\\Users\\ppmel\\AppData\\Local\\Temp\\ipykernel_10876\\564761109.py:2: SettingWithCopyWarning: \n",
      "A value is trying to be set on a copy of a slice from a DataFrame.\n",
      "Try using .loc[row_indexer,col_indexer] = value instead\n",
      "\n",
      "See the caveats in the documentation: https://pandas.pydata.org/pandas-docs/stable/user_guide/indexing.html#returning-a-view-versus-a-copy\n",
      "  historic['buy_signal']= historic.rsi < 20\n",
      "C:\\Users\\ppmel\\AppData\\Local\\Temp\\ipykernel_10876\\564761109.py:3: SettingWithCopyWarning: \n",
      "A value is trying to be set on a copy of a slice from a DataFrame.\n",
      "Try using .loc[row_indexer,col_indexer] = value instead\n",
      "\n",
      "See the caveats in the documentation: https://pandas.pydata.org/pandas-docs/stable/user_guide/indexing.html#returning-a-view-versus-a-copy\n",
      "  historic['sell_signal']= historic.rsi > 80\n"
     ]
    }
   ],
   "source": [
    "historic = df.dropna()\n",
    "historic['buy_signal']= historic.rsi < 20 \n",
    "historic['sell_signal']= historic.rsi > 80"
   ]
  },
  {
   "cell_type": "code",
   "execution_count": 60,
   "id": "d6cad43b",
   "metadata": {},
   "outputs": [
    {
     "data": {
      "text/html": [
       "<div>\n",
       "<style scoped>\n",
       "    .dataframe tbody tr th:only-of-type {\n",
       "        vertical-align: middle;\n",
       "    }\n",
       "\n",
       "    .dataframe tbody tr th {\n",
       "        vertical-align: top;\n",
       "    }\n",
       "\n",
       "    .dataframe thead th {\n",
       "        text-align: right;\n",
       "    }\n",
       "</style>\n",
       "<table border=\"1\" class=\"dataframe\">\n",
       "  <thead>\n",
       "    <tr style=\"text-align: right;\">\n",
       "      <th></th>\n",
       "      <th>Unnamed: 0</th>\n",
       "      <th>Timestamp</th>\n",
       "      <th>Gmtoffset</th>\n",
       "      <th>Datetime</th>\n",
       "      <th>Open</th>\n",
       "      <th>High</th>\n",
       "      <th>Low</th>\n",
       "      <th>Close</th>\n",
       "      <th>Volume</th>\n",
       "      <th>rsi</th>\n",
       "      <th>buy_signal</th>\n",
       "      <th>sell_signal</th>\n",
       "    </tr>\n",
       "  </thead>\n",
       "  <tbody>\n",
       "    <tr>\n",
       "      <th>19</th>\n",
       "      <td>19</td>\n",
       "      <td>1609776300</td>\n",
       "      <td>0</td>\n",
       "      <td>2021-01-04 16:05:00</td>\n",
       "      <td>130.309997</td>\n",
       "      <td>130.549896</td>\n",
       "      <td>129.660003</td>\n",
       "      <td>129.866699</td>\n",
       "      <td>3030766.0</td>\n",
       "      <td>26.683236</td>\n",
       "      <td>False</td>\n",
       "      <td>False</td>\n",
       "    </tr>\n",
       "    <tr>\n",
       "      <th>20</th>\n",
       "      <td>20</td>\n",
       "      <td>1609776600</td>\n",
       "      <td>0</td>\n",
       "      <td>2021-01-04 16:10:00</td>\n",
       "      <td>129.860000</td>\n",
       "      <td>130.239898</td>\n",
       "      <td>129.399993</td>\n",
       "      <td>130.089996</td>\n",
       "      <td>2231137.0</td>\n",
       "      <td>30.749593</td>\n",
       "      <td>False</td>\n",
       "      <td>False</td>\n",
       "    </tr>\n",
       "    <tr>\n",
       "      <th>21</th>\n",
       "      <td>21</td>\n",
       "      <td>1609776900</td>\n",
       "      <td>0</td>\n",
       "      <td>2021-01-04 16:15:00</td>\n",
       "      <td>130.080093</td>\n",
       "      <td>130.354995</td>\n",
       "      <td>129.904602</td>\n",
       "      <td>130.324996</td>\n",
       "      <td>1328068.0</td>\n",
       "      <td>34.758166</td>\n",
       "      <td>False</td>\n",
       "      <td>False</td>\n",
       "    </tr>\n",
       "    <tr>\n",
       "      <th>22</th>\n",
       "      <td>22</td>\n",
       "      <td>1609777200</td>\n",
       "      <td>0</td>\n",
       "      <td>2021-01-04 16:20:00</td>\n",
       "      <td>130.324005</td>\n",
       "      <td>130.419998</td>\n",
       "      <td>129.930099</td>\n",
       "      <td>129.996398</td>\n",
       "      <td>1233893.0</td>\n",
       "      <td>32.029264</td>\n",
       "      <td>False</td>\n",
       "      <td>False</td>\n",
       "    </tr>\n",
       "    <tr>\n",
       "      <th>23</th>\n",
       "      <td>23</td>\n",
       "      <td>1609777500</td>\n",
       "      <td>0</td>\n",
       "      <td>2021-01-04 16:25:00</td>\n",
       "      <td>129.994995</td>\n",
       "      <td>130.206695</td>\n",
       "      <td>129.880004</td>\n",
       "      <td>129.895004</td>\n",
       "      <td>1144809.0</td>\n",
       "      <td>31.232801</td>\n",
       "      <td>False</td>\n",
       "      <td>False</td>\n",
       "    </tr>\n",
       "  </tbody>\n",
       "</table>\n",
       "</div>"
      ],
      "text/plain": [
       "    Unnamed: 0   Timestamp  Gmtoffset             Datetime        Open  \\\n",
       "19          19  1609776300          0  2021-01-04 16:05:00  130.309997   \n",
       "20          20  1609776600          0  2021-01-04 16:10:00  129.860000   \n",
       "21          21  1609776900          0  2021-01-04 16:15:00  130.080093   \n",
       "22          22  1609777200          0  2021-01-04 16:20:00  130.324005   \n",
       "23          23  1609777500          0  2021-01-04 16:25:00  129.994995   \n",
       "\n",
       "          High         Low       Close     Volume        rsi  buy_signal  \\\n",
       "19  130.549896  129.660003  129.866699  3030766.0  26.683236       False   \n",
       "20  130.239898  129.399993  130.089996  2231137.0  30.749593       False   \n",
       "21  130.354995  129.904602  130.324996  1328068.0  34.758166       False   \n",
       "22  130.419998  129.930099  129.996398  1233893.0  32.029264       False   \n",
       "23  130.206695  129.880004  129.895004  1144809.0  31.232801       False   \n",
       "\n",
       "    sell_signal  \n",
       "19        False  \n",
       "20        False  \n",
       "21        False  \n",
       "22        False  \n",
       "23        False  "
      ]
     },
     "execution_count": 60,
     "metadata": {},
     "output_type": "execute_result"
    }
   ],
   "source": [
    "historic.head()"
   ]
  },
  {
   "cell_type": "code",
   "execution_count": 61,
   "id": "9c9ce087",
   "metadata": {},
   "outputs": [],
   "source": [
    "COM = 0.125 / 100\n",
    "SL = 0.5 \n",
    "TP = 0.5\n",
    "BORROW_RATE = 0.25 / 100\n",
    "\n",
    "cash = 1000000\n",
    "n_shares = 50"
   ]
  },
  {
   "cell_type": "code",
   "execution_count": 62,
   "id": "b69e97f3",
   "metadata": {},
   "outputs": [],
   "source": [
    "from dataclasses import dataclass\n",
    "\n",
    "@dataclass\n",
    "class Operation:\n",
    "    time: str\n",
    "    price: float\n",
    "    stop_loss: float\n",
    "    take_profit: float\n",
    "    n_shares: int\n",
    "    type : str \n",
    "\n",
    "class Operation2:\n",
    "    def __init__(self, time, price, stop_loss, take_profit, n_shares, type):\n",
    "        self.time = time\n",
    "        self.price = price\n",
    "        self.stop_loss = stop_loss\n",
    "        self.take_profit = take_profit\n",
    "        self.n_shares = n_shares\n",
    "        self.type = type\n",
    "        \n"
   ]
  },
  {
   "cell_type": "code",
   "execution_count": 63,
   "id": "98ba3afb",
   "metadata": {},
   "outputs": [],
   "source": [
    "active_positions = []\n",
    "\n",
    "for i, row in historic.iterrows():\n",
    "    # Close position \n",
    "\n",
    "    for position in active_positions.copy():\n",
    "        if row.Close > position.take_profit or row.Close < position.stop_loss:\n",
    "            cash += row.Close * position.n_shares * (1 - COM)\n",
    "            active_positions.remove(position)\n",
    "            \n",
    "\n",
    "\n",
    "    #-- Buy ---\n",
    "    if not row.buy_signal:\n",
    "        continue\n",
    "\n",
    "    # Check Signal\n",
    "    # Do we have enough cash?\n",
    "    if cash < row.Close * n_shares * (1 + COM):\n",
    "        continue\n",
    "\n",
    "    # Discount the cost\n",
    "    cash -= row.Close * n_shares * (1 + COM)\n",
    "\n",
    "    # Save the operation as active position\n",
    "    active_positions.append(\n",
    "        Operation2(\n",
    "            time = row.Datetime,\n",
    "            price = row.Close,\n",
    "            stop_loss = row.Close * (1 - SL),\n",
    "            take_profit = row.Close * (1 + TP),\n",
    "            n_shares = n_shares,\n",
    "            type = 'LONG'\n",
    "        )\n",
    "    )\n",
    "\n",
    "    \n",
    "\n"
   ]
  },
  {
   "cell_type": "code",
   "execution_count": 64,
   "id": "d41744db",
   "metadata": {},
   "outputs": [
    {
     "data": {
      "text/plain": [
       "90"
      ]
     },
     "execution_count": 64,
     "metadata": {},
     "output_type": "execute_result"
    }
   ],
   "source": [
    "len(active_positions)"
   ]
  },
  {
   "cell_type": "code",
   "execution_count": 65,
   "id": "810ab131",
   "metadata": {},
   "outputs": [
    {
     "data": {
      "text/plain": [
       "385095.93201393756"
      ]
     },
     "execution_count": 65,
     "metadata": {},
     "output_type": "execute_result"
    }
   ],
   "source": [
    "cash"
   ]
  },
  {
   "cell_type": "markdown",
   "id": "e39c530b",
   "metadata": {},
   "source": []
  }
 ],
 "metadata": {
  "kernelspec": {
   "display_name": "Python 3",
   "language": "python",
   "name": "python3"
  },
  "language_info": {
   "codemirror_mode": {
    "name": "ipython",
    "version": 3
   },
   "file_extension": ".py",
   "mimetype": "text/x-python",
   "name": "python",
   "nbconvert_exporter": "python",
   "pygments_lexer": "ipython3",
   "version": "3.13.5"
  }
 },
 "nbformat": 4,
 "nbformat_minor": 5
}
