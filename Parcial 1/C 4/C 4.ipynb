{
 "cells": [
  {
   "cell_type": "markdown",
   "id": "57f4e59e",
   "metadata": {},
   "source": [
    "# Microestructura y Sistemas de Trading\n",
    "## Technical Analysis\n",
    "\n",
    "- José Armando Melchor Soto\n"
   ]
  },
  {
   "cell_type": "markdown",
   "id": "72633e8a",
   "metadata": {},
   "source": [
    "---"
   ]
  },
  {
   "cell_type": "markdown",
   "id": "6ee42d96",
   "metadata": {},
   "source": [
    "#### Librerias \n"
   ]
  },
  {
   "cell_type": "code",
   "execution_count": 148,
   "id": "ae294aff",
   "metadata": {},
   "outputs": [],
   "source": [
    "import matplotlib.pyplot as plt\n",
    "import pandas as pd\n",
    "import seaborn as sns\n",
    "import ta\n",
    "import optuna"
   ]
  },
  {
   "cell_type": "code",
   "execution_count": 149,
   "id": "d590ac50",
   "metadata": {},
   "outputs": [
    {
     "data": {
      "text/html": [
       "<div>\n",
       "<style scoped>\n",
       "    .dataframe tbody tr th:only-of-type {\n",
       "        vertical-align: middle;\n",
       "    }\n",
       "\n",
       "    .dataframe tbody tr th {\n",
       "        vertical-align: top;\n",
       "    }\n",
       "\n",
       "    .dataframe thead th {\n",
       "        text-align: right;\n",
       "    }\n",
       "</style>\n",
       "<table border=\"1\" class=\"dataframe\">\n",
       "  <thead>\n",
       "    <tr style=\"text-align: right;\">\n",
       "      <th></th>\n",
       "      <th>Unnamed: 0</th>\n",
       "      <th>Timestamp</th>\n",
       "      <th>Gmtoffset</th>\n",
       "      <th>Datetime</th>\n",
       "      <th>Open</th>\n",
       "      <th>High</th>\n",
       "      <th>Low</th>\n",
       "      <th>Close</th>\n",
       "      <th>Volume</th>\n",
       "    </tr>\n",
       "  </thead>\n",
       "  <tbody>\n",
       "    <tr>\n",
       "      <th>0</th>\n",
       "      <td>0</td>\n",
       "      <td>1609770600</td>\n",
       "      <td>0</td>\n",
       "      <td>2021-01-04 14:30:00</td>\n",
       "      <td>133.570007</td>\n",
       "      <td>133.611602</td>\n",
       "      <td>132.389999</td>\n",
       "      <td>132.809997</td>\n",
       "      <td>6624663.0</td>\n",
       "    </tr>\n",
       "    <tr>\n",
       "      <th>1</th>\n",
       "      <td>1</td>\n",
       "      <td>1609770900</td>\n",
       "      <td>0</td>\n",
       "      <td>2021-01-04 14:35:00</td>\n",
       "      <td>132.750000</td>\n",
       "      <td>132.750000</td>\n",
       "      <td>131.809997</td>\n",
       "      <td>131.889999</td>\n",
       "      <td>2541553.0</td>\n",
       "    </tr>\n",
       "    <tr>\n",
       "      <th>2</th>\n",
       "      <td>2</td>\n",
       "      <td>1609771200</td>\n",
       "      <td>0</td>\n",
       "      <td>2021-01-04 14:40:00</td>\n",
       "      <td>131.500000</td>\n",
       "      <td>132.339996</td>\n",
       "      <td>131.500000</td>\n",
       "      <td>132.059997</td>\n",
       "      <td>2492415.0</td>\n",
       "    </tr>\n",
       "    <tr>\n",
       "      <th>3</th>\n",
       "      <td>3</td>\n",
       "      <td>1609771500</td>\n",
       "      <td>0</td>\n",
       "      <td>2021-01-04 14:45:00</td>\n",
       "      <td>132.000000</td>\n",
       "      <td>132.250000</td>\n",
       "      <td>131.899993</td>\n",
       "      <td>132.250000</td>\n",
       "      <td>1859131.0</td>\n",
       "    </tr>\n",
       "    <tr>\n",
       "      <th>4</th>\n",
       "      <td>4</td>\n",
       "      <td>1609771800</td>\n",
       "      <td>0</td>\n",
       "      <td>2021-01-04 14:50:00</td>\n",
       "      <td>132.000000</td>\n",
       "      <td>132.018096</td>\n",
       "      <td>131.520004</td>\n",
       "      <td>131.589996</td>\n",
       "      <td>1780105.0</td>\n",
       "    </tr>\n",
       "    <tr>\n",
       "      <th>...</th>\n",
       "      <td>...</td>\n",
       "      <td>...</td>\n",
       "      <td>...</td>\n",
       "      <td>...</td>\n",
       "      <td>...</td>\n",
       "      <td>...</td>\n",
       "      <td>...</td>\n",
       "      <td>...</td>\n",
       "      <td>...</td>\n",
       "    </tr>\n",
       "    <tr>\n",
       "      <th>39573</th>\n",
       "      <td>19787</td>\n",
       "      <td>1672432500</td>\n",
       "      <td>0</td>\n",
       "      <td>2022-12-30 20:35:00</td>\n",
       "      <td>129.020004</td>\n",
       "      <td>129.050003</td>\n",
       "      <td>128.899993</td>\n",
       "      <td>129.039993</td>\n",
       "      <td>773964.0</td>\n",
       "    </tr>\n",
       "    <tr>\n",
       "      <th>39574</th>\n",
       "      <td>19788</td>\n",
       "      <td>1672432800</td>\n",
       "      <td>0</td>\n",
       "      <td>2022-12-30 20:40:00</td>\n",
       "      <td>129.029998</td>\n",
       "      <td>129.130004</td>\n",
       "      <td>128.919998</td>\n",
       "      <td>129.054992</td>\n",
       "      <td>833767.0</td>\n",
       "    </tr>\n",
       "    <tr>\n",
       "      <th>39575</th>\n",
       "      <td>19789</td>\n",
       "      <td>1672433100</td>\n",
       "      <td>0</td>\n",
       "      <td>2022-12-30 20:45:00</td>\n",
       "      <td>129.059997</td>\n",
       "      <td>129.399993</td>\n",
       "      <td>129.020004</td>\n",
       "      <td>129.380004</td>\n",
       "      <td>2136910.0</td>\n",
       "    </tr>\n",
       "    <tr>\n",
       "      <th>39576</th>\n",
       "      <td>19790</td>\n",
       "      <td>1672433400</td>\n",
       "      <td>0</td>\n",
       "      <td>2022-12-30 20:50:00</td>\n",
       "      <td>129.375000</td>\n",
       "      <td>129.929992</td>\n",
       "      <td>129.330001</td>\n",
       "      <td>129.764404</td>\n",
       "      <td>2879267.0</td>\n",
       "    </tr>\n",
       "    <tr>\n",
       "      <th>39577</th>\n",
       "      <td>19791</td>\n",
       "      <td>1672433700</td>\n",
       "      <td>0</td>\n",
       "      <td>2022-12-30 20:55:00</td>\n",
       "      <td>129.764999</td>\n",
       "      <td>129.949996</td>\n",
       "      <td>129.619995</td>\n",
       "      <td>129.949996</td>\n",
       "      <td>3896812.0</td>\n",
       "    </tr>\n",
       "  </tbody>\n",
       "</table>\n",
       "<p>39160 rows × 9 columns</p>\n",
       "</div>"
      ],
      "text/plain": [
       "       Unnamed: 0   Timestamp  Gmtoffset             Datetime        Open  \\\n",
       "0               0  1609770600          0  2021-01-04 14:30:00  133.570007   \n",
       "1               1  1609770900          0  2021-01-04 14:35:00  132.750000   \n",
       "2               2  1609771200          0  2021-01-04 14:40:00  131.500000   \n",
       "3               3  1609771500          0  2021-01-04 14:45:00  132.000000   \n",
       "4               4  1609771800          0  2021-01-04 14:50:00  132.000000   \n",
       "...           ...         ...        ...                  ...         ...   \n",
       "39573       19787  1672432500          0  2022-12-30 20:35:00  129.020004   \n",
       "39574       19788  1672432800          0  2022-12-30 20:40:00  129.029998   \n",
       "39575       19789  1672433100          0  2022-12-30 20:45:00  129.059997   \n",
       "39576       19790  1672433400          0  2022-12-30 20:50:00  129.375000   \n",
       "39577       19791  1672433700          0  2022-12-30 20:55:00  129.764999   \n",
       "\n",
       "             High         Low       Close     Volume  \n",
       "0      133.611602  132.389999  132.809997  6624663.0  \n",
       "1      132.750000  131.809997  131.889999  2541553.0  \n",
       "2      132.339996  131.500000  132.059997  2492415.0  \n",
       "3      132.250000  131.899993  132.250000  1859131.0  \n",
       "4      132.018096  131.520004  131.589996  1780105.0  \n",
       "...           ...         ...         ...        ...  \n",
       "39573  129.050003  128.899993  129.039993   773964.0  \n",
       "39574  129.130004  128.919998  129.054992   833767.0  \n",
       "39575  129.399993  129.020004  129.380004  2136910.0  \n",
       "39576  129.929992  129.330001  129.764404  2879267.0  \n",
       "39577  129.949996  129.619995  129.949996  3896812.0  \n",
       "\n",
       "[39160 rows x 9 columns]"
      ]
     },
     "execution_count": 149,
     "metadata": {},
     "output_type": "execute_result"
    }
   ],
   "source": [
    "data = pd.read_csv(\"aapl_5m_train.csv\").dropna()\n",
    "data"
   ]
  },
  {
   "cell_type": "code",
   "execution_count": 150,
   "id": "b892929a",
   "metadata": {},
   "outputs": [],
   "source": [
    "def backtest(data, trial) -> float:\n",
    "    data = data.copy()\n",
    "\n",
    "\n",
    "    rsi_window = trial.suggest_int(\"rsi_window\", 5, 50)\n",
    "    rsi_lower = trial.suggest_int(\"rsi_lower\", 5, 35)\n",
    "    rsi_upper = trial.suggest_int(\"rsi_upper\", 65, 95)\n",
    "    stop_loss = trial.suggest_float(\"stop_loss\", 0.01, 0.15)\n",
    "    take_profit = trial.suggest_float(\"take_profit\", 0.01, 0.15)\n",
    "    n_shares = trial.suggest_int(\"n_shares\", 50, 500)\n",
    "\n",
    "    rsi_indicator = ta.momentum.RSIIndicator(data.Close, window=rsi_window)\n",
    "    data['rsi'] = rsi_indicator.rsi()\n",
    "\n",
    "    historic = data.dropna()\n",
    "    historic[\"buy_signal\"] = historic.rsi < 20\n",
    "    historic[\"sell_signal\"] = historic.rsi > 80 #LOS TENEMOS QUE ENCONTRAR\n",
    "\n",
    "    COM = 0.125 / 100\n",
    "    SL = stop_loss\n",
    "    TP = take_profit\n",
    "    BORROW_RATE = 0.25/100\n",
    "\n",
    "    cash = 1_000_000\n",
    "\n",
    "\n",
    "\n",
    "    active_long_positions= []\n",
    "\n",
    "    portfolio_value = [cash]\n",
    "\n",
    "    for i, row in historic.iterrows():\n",
    "        \n",
    "        # This only works for long positions\n",
    "        portfolio_value.append(get_portfolio_value(cash, active_long_positions, [], row.Close, n_shares))\n",
    "\n",
    "\n",
    "        # Close Operations\n",
    "        for position in active_long_positions.copy():\n",
    "            if row.Close > position.take_profit or row.Close < position.stop_loss:\n",
    "                cash += row.Close * position.n_shares * (1 - COM)\n",
    "                active_long_positions.remove(position)\n",
    "\n",
    "        # --- BUY\n",
    "        # Check Signal\n",
    "        if not row.buy_signal:\n",
    "            portfolio_value.append(get_portfolio_value(cash, active_long_positions, [], row.Close, n_shares))\n",
    "\n",
    "            continue\n",
    "\n",
    "        # Enough Cash?\n",
    "        if cash < row.Close * n_shares * (1 + COM):\n",
    "            portfolio_value.append(get_portfolio_value(cash, active_long_positions, [], row.Close, n_shares))\n",
    "\n",
    "            continue\n",
    "        # Discount Costs\n",
    "        cash -= row.Close * n_shares * (1 + COM)\n",
    "\n",
    "\n",
    "        # Save the Operation as active position\n",
    "        active_long_positions.append(\n",
    "            Operation(\n",
    "            time=row.Datetime,\n",
    "            price=row.Close,\n",
    "            take_profit=row.Close * (1 + TP),\n",
    "            stop_loss= row.Close * (1 - SL),\n",
    "            n_shares=n_shares,\n",
    "            type = \"LONG\"\n",
    "        )\n",
    "    )\n",
    "\n",
    "        portfolio_value.append(get_portfolio_value(cash, active_long_positions, [], row.Close, n_shares))\n",
    "\n",
    "    #añadimos al cash las posiciones que siguen abiertas cuando terminamos las posiciones\n",
    "\n",
    "    cash += row.Close * len(active_long_positions) *(1 - COM)\n",
    "    active_position = []\n",
    "\n",
    "    return (cash / 1_000_000) - 1\n"
   ]
  },
  {
   "cell_type": "code",
   "execution_count": 151,
   "id": "182e20da",
   "metadata": {},
   "outputs": [
    {
     "name": "stderr",
     "output_type": "stream",
     "text": [
      "[I 2025-09-12 07:12:40,314] A new study created in memory with name: no-name-871b48b2-aa3a-449c-8a3f-f09c621419a2\n",
      "C:\\Users\\ppmel\\AppData\\Local\\Temp\\ipykernel_1524\\3214520164.py:16: SettingWithCopyWarning: \n",
      "A value is trying to be set on a copy of a slice from a DataFrame.\n",
      "Try using .loc[row_indexer,col_indexer] = value instead\n",
      "\n",
      "See the caveats in the documentation: https://pandas.pydata.org/pandas-docs/stable/user_guide/indexing.html#returning-a-view-versus-a-copy\n",
      "  historic[\"buy_signal\"] = historic.rsi < 20\n",
      "C:\\Users\\ppmel\\AppData\\Local\\Temp\\ipykernel_1524\\3214520164.py:17: SettingWithCopyWarning: \n",
      "A value is trying to be set on a copy of a slice from a DataFrame.\n",
      "Try using .loc[row_indexer,col_indexer] = value instead\n",
      "\n",
      "See the caveats in the documentation: https://pandas.pydata.org/pandas-docs/stable/user_guide/indexing.html#returning-a-view-versus-a-copy\n",
      "  historic[\"sell_signal\"] = historic.rsi > 80 #LOS TENEMOS QUE ENCONTRAR\n",
      "[I 2025-09-12 07:12:42,438] Trial 0 finished with value: 0.11676613371801259 and parameters: {'rsi_window': 22, 'rsi_lower': 22, 'rsi_upper': 84, 'stop_loss': 0.09623973680042153, 'take_profit': 0.04268779151306112, 'n_shares': 485}. Best is trial 0 with value: 0.11676613371801259.\n",
      "C:\\Users\\ppmel\\AppData\\Local\\Temp\\ipykernel_1524\\3214520164.py:16: SettingWithCopyWarning: \n",
      "A value is trying to be set on a copy of a slice from a DataFrame.\n",
      "Try using .loc[row_indexer,col_indexer] = value instead\n",
      "\n",
      "See the caveats in the documentation: https://pandas.pydata.org/pandas-docs/stable/user_guide/indexing.html#returning-a-view-versus-a-copy\n",
      "  historic[\"buy_signal\"] = historic.rsi < 20\n",
      "C:\\Users\\ppmel\\AppData\\Local\\Temp\\ipykernel_1524\\3214520164.py:17: SettingWithCopyWarning: \n",
      "A value is trying to be set on a copy of a slice from a DataFrame.\n",
      "Try using .loc[row_indexer,col_indexer] = value instead\n",
      "\n",
      "See the caveats in the documentation: https://pandas.pydata.org/pandas-docs/stable/user_guide/indexing.html#returning-a-view-versus-a-copy\n",
      "  historic[\"sell_signal\"] = historic.rsi > 80 #LOS TENEMOS QUE ENCONTRAR\n",
      "[I 2025-09-12 07:12:43,803] Trial 1 finished with value: -0.011119985889108341 and parameters: {'rsi_window': 39, 'rsi_lower': 21, 'rsi_upper': 91, 'stop_loss': 0.05864991103994456, 'take_profit': 0.03935993740159491, 'n_shares': 171}. Best is trial 0 with value: 0.11676613371801259.\n",
      "C:\\Users\\ppmel\\AppData\\Local\\Temp\\ipykernel_1524\\3214520164.py:16: SettingWithCopyWarning: \n",
      "A value is trying to be set on a copy of a slice from a DataFrame.\n",
      "Try using .loc[row_indexer,col_indexer] = value instead\n",
      "\n",
      "See the caveats in the documentation: https://pandas.pydata.org/pandas-docs/stable/user_guide/indexing.html#returning-a-view-versus-a-copy\n",
      "  historic[\"buy_signal\"] = historic.rsi < 20\n",
      "C:\\Users\\ppmel\\AppData\\Local\\Temp\\ipykernel_1524\\3214520164.py:17: SettingWithCopyWarning: \n",
      "A value is trying to be set on a copy of a slice from a DataFrame.\n",
      "Try using .loc[row_indexer,col_indexer] = value instead\n",
      "\n",
      "See the caveats in the documentation: https://pandas.pydata.org/pandas-docs/stable/user_guide/indexing.html#returning-a-view-versus-a-copy\n",
      "  historic[\"sell_signal\"] = historic.rsi > 80 #LOS TENEMOS QUE ENCONTRAR\n",
      "[I 2025-09-12 07:12:45,320] Trial 2 finished with value: 0.03807829296062981 and parameters: {'rsi_window': 43, 'rsi_lower': 32, 'rsi_upper': 95, 'stop_loss': 0.07154654199141876, 'take_profit': 0.06701890124943977, 'n_shares': 488}. Best is trial 0 with value: 0.11676613371801259.\n",
      "C:\\Users\\ppmel\\AppData\\Local\\Temp\\ipykernel_1524\\3214520164.py:16: SettingWithCopyWarning: \n",
      "A value is trying to be set on a copy of a slice from a DataFrame.\n",
      "Try using .loc[row_indexer,col_indexer] = value instead\n",
      "\n",
      "See the caveats in the documentation: https://pandas.pydata.org/pandas-docs/stable/user_guide/indexing.html#returning-a-view-versus-a-copy\n",
      "  historic[\"buy_signal\"] = historic.rsi < 20\n",
      "C:\\Users\\ppmel\\AppData\\Local\\Temp\\ipykernel_1524\\3214520164.py:17: SettingWithCopyWarning: \n",
      "A value is trying to be set on a copy of a slice from a DataFrame.\n",
      "Try using .loc[row_indexer,col_indexer] = value instead\n",
      "\n",
      "See the caveats in the documentation: https://pandas.pydata.org/pandas-docs/stable/user_guide/indexing.html#returning-a-view-versus-a-copy\n",
      "  historic[\"sell_signal\"] = historic.rsi > 80 #LOS TENEMOS QUE ENCONTRAR\n",
      "[I 2025-09-12 07:12:46,656] Trial 3 finished with value: 0.0034769032960204616 and parameters: {'rsi_window': 28, 'rsi_lower': 26, 'rsi_upper': 70, 'stop_loss': 0.027003603558519308, 'take_profit': 0.12884557201238894, 'n_shares': 132}. Best is trial 0 with value: 0.11676613371801259.\n",
      "C:\\Users\\ppmel\\AppData\\Local\\Temp\\ipykernel_1524\\3214520164.py:16: SettingWithCopyWarning: \n",
      "A value is trying to be set on a copy of a slice from a DataFrame.\n",
      "Try using .loc[row_indexer,col_indexer] = value instead\n",
      "\n",
      "See the caveats in the documentation: https://pandas.pydata.org/pandas-docs/stable/user_guide/indexing.html#returning-a-view-versus-a-copy\n",
      "  historic[\"buy_signal\"] = historic.rsi < 20\n",
      "C:\\Users\\ppmel\\AppData\\Local\\Temp\\ipykernel_1524\\3214520164.py:17: SettingWithCopyWarning: \n",
      "A value is trying to be set on a copy of a slice from a DataFrame.\n",
      "Try using .loc[row_indexer,col_indexer] = value instead\n",
      "\n",
      "See the caveats in the documentation: https://pandas.pydata.org/pandas-docs/stable/user_guide/indexing.html#returning-a-view-versus-a-copy\n",
      "  historic[\"sell_signal\"] = historic.rsi > 80 #LOS TENEMOS QUE ENCONTRAR\n",
      "[I 2025-09-12 07:12:48,155] Trial 4 finished with value: -0.006866443591005078 and parameters: {'rsi_window': 24, 'rsi_lower': 5, 'rsi_upper': 73, 'stop_loss': 0.05482883451603654, 'take_profit': 0.03856675909141908, 'n_shares': 186}. Best is trial 0 with value: 0.11676613371801259.\n",
      "C:\\Users\\ppmel\\AppData\\Local\\Temp\\ipykernel_1524\\3214520164.py:16: SettingWithCopyWarning: \n",
      "A value is trying to be set on a copy of a slice from a DataFrame.\n",
      "Try using .loc[row_indexer,col_indexer] = value instead\n",
      "\n",
      "See the caveats in the documentation: https://pandas.pydata.org/pandas-docs/stable/user_guide/indexing.html#returning-a-view-versus-a-copy\n",
      "  historic[\"buy_signal\"] = historic.rsi < 20\n",
      "C:\\Users\\ppmel\\AppData\\Local\\Temp\\ipykernel_1524\\3214520164.py:17: SettingWithCopyWarning: \n",
      "A value is trying to be set on a copy of a slice from a DataFrame.\n",
      "Try using .loc[row_indexer,col_indexer] = value instead\n",
      "\n",
      "See the caveats in the documentation: https://pandas.pydata.org/pandas-docs/stable/user_guide/indexing.html#returning-a-view-versus-a-copy\n",
      "  historic[\"sell_signal\"] = historic.rsi > 80 #LOS TENEMOS QUE ENCONTRAR\n",
      "[I 2025-09-12 07:12:49,465] Trial 5 finished with value: 0.001503126246589881 and parameters: {'rsi_window': 45, 'rsi_lower': 22, 'rsi_upper': 71, 'stop_loss': 0.031179041261158086, 'take_profit': 0.1114477112815476, 'n_shares': 197}. Best is trial 0 with value: 0.11676613371801259.\n",
      "C:\\Users\\ppmel\\AppData\\Local\\Temp\\ipykernel_1524\\3214520164.py:16: SettingWithCopyWarning: \n",
      "A value is trying to be set on a copy of a slice from a DataFrame.\n",
      "Try using .loc[row_indexer,col_indexer] = value instead\n",
      "\n",
      "See the caveats in the documentation: https://pandas.pydata.org/pandas-docs/stable/user_guide/indexing.html#returning-a-view-versus-a-copy\n",
      "  historic[\"buy_signal\"] = historic.rsi < 20\n",
      "C:\\Users\\ppmel\\AppData\\Local\\Temp\\ipykernel_1524\\3214520164.py:17: SettingWithCopyWarning: \n",
      "A value is trying to be set on a copy of a slice from a DataFrame.\n",
      "Try using .loc[row_indexer,col_indexer] = value instead\n",
      "\n",
      "See the caveats in the documentation: https://pandas.pydata.org/pandas-docs/stable/user_guide/indexing.html#returning-a-view-versus-a-copy\n",
      "  historic[\"sell_signal\"] = historic.rsi > 80 #LOS TENEMOS QUE ENCONTRAR\n",
      "[I 2025-09-12 07:12:53,581] Trial 6 finished with value: -0.9593767881329816 and parameters: {'rsi_window': 8, 'rsi_lower': 24, 'rsi_upper': 88, 'stop_loss': 0.05159737512038522, 'take_profit': 0.08372748573894502, 'n_shares': 309}. Best is trial 0 with value: 0.11676613371801259.\n",
      "C:\\Users\\ppmel\\AppData\\Local\\Temp\\ipykernel_1524\\3214520164.py:16: SettingWithCopyWarning: \n",
      "A value is trying to be set on a copy of a slice from a DataFrame.\n",
      "Try using .loc[row_indexer,col_indexer] = value instead\n",
      "\n",
      "See the caveats in the documentation: https://pandas.pydata.org/pandas-docs/stable/user_guide/indexing.html#returning-a-view-versus-a-copy\n",
      "  historic[\"buy_signal\"] = historic.rsi < 20\n",
      "C:\\Users\\ppmel\\AppData\\Local\\Temp\\ipykernel_1524\\3214520164.py:17: SettingWithCopyWarning: \n",
      "A value is trying to be set on a copy of a slice from a DataFrame.\n",
      "Try using .loc[row_indexer,col_indexer] = value instead\n",
      "\n",
      "See the caveats in the documentation: https://pandas.pydata.org/pandas-docs/stable/user_guide/indexing.html#returning-a-view-versus-a-copy\n",
      "  historic[\"sell_signal\"] = historic.rsi > 80 #LOS TENEMOS QUE ENCONTRAR\n",
      "[I 2025-09-12 07:12:56,341] Trial 7 finished with value: -0.18986964287375896 and parameters: {'rsi_window': 16, 'rsi_lower': 22, 'rsi_upper': 88, 'stop_loss': 0.13896150348443234, 'take_profit': 0.05728490608582785, 'n_shares': 444}. Best is trial 0 with value: 0.11676613371801259.\n",
      "C:\\Users\\ppmel\\AppData\\Local\\Temp\\ipykernel_1524\\3214520164.py:16: SettingWithCopyWarning: \n",
      "A value is trying to be set on a copy of a slice from a DataFrame.\n",
      "Try using .loc[row_indexer,col_indexer] = value instead\n",
      "\n",
      "See the caveats in the documentation: https://pandas.pydata.org/pandas-docs/stable/user_guide/indexing.html#returning-a-view-versus-a-copy\n",
      "  historic[\"buy_signal\"] = historic.rsi < 20\n",
      "C:\\Users\\ppmel\\AppData\\Local\\Temp\\ipykernel_1524\\3214520164.py:17: SettingWithCopyWarning: \n",
      "A value is trying to be set on a copy of a slice from a DataFrame.\n",
      "Try using .loc[row_indexer,col_indexer] = value instead\n",
      "\n",
      "See the caveats in the documentation: https://pandas.pydata.org/pandas-docs/stable/user_guide/indexing.html#returning-a-view-versus-a-copy\n",
      "  historic[\"sell_signal\"] = historic.rsi > 80 #LOS TENEMOS QUE ENCONTRAR\n",
      "[I 2025-09-12 07:12:58,044] Trial 8 finished with value: 0.044289655599280886 and parameters: {'rsi_window': 34, 'rsi_lower': 22, 'rsi_upper': 78, 'stop_loss': 0.06476893912335806, 'take_profit': 0.13605626794097864, 'n_shares': 391}. Best is trial 0 with value: 0.11676613371801259.\n",
      "C:\\Users\\ppmel\\AppData\\Local\\Temp\\ipykernel_1524\\3214520164.py:16: SettingWithCopyWarning: \n",
      "A value is trying to be set on a copy of a slice from a DataFrame.\n",
      "Try using .loc[row_indexer,col_indexer] = value instead\n",
      "\n",
      "See the caveats in the documentation: https://pandas.pydata.org/pandas-docs/stable/user_guide/indexing.html#returning-a-view-versus-a-copy\n",
      "  historic[\"buy_signal\"] = historic.rsi < 20\n",
      "C:\\Users\\ppmel\\AppData\\Local\\Temp\\ipykernel_1524\\3214520164.py:17: SettingWithCopyWarning: \n",
      "A value is trying to be set on a copy of a slice from a DataFrame.\n",
      "Try using .loc[row_indexer,col_indexer] = value instead\n",
      "\n",
      "See the caveats in the documentation: https://pandas.pydata.org/pandas-docs/stable/user_guide/indexing.html#returning-a-view-versus-a-copy\n",
      "  historic[\"sell_signal\"] = historic.rsi > 80 #LOS TENEMOS QUE ENCONTRAR\n",
      "[I 2025-09-12 07:12:59,578] Trial 9 finished with value: 0.08560989582023737 and parameters: {'rsi_window': 27, 'rsi_lower': 10, 'rsi_upper': 72, 'stop_loss': 0.1481084208345594, 'take_profit': 0.05630353942850205, 'n_shares': 394}. Best is trial 0 with value: 0.11676613371801259.\n"
     ]
    }
   ],
   "source": [
    "study = optuna.create_study(direction=\"maximize\")\n",
    "study.optimize(lambda trial: backtest(data, trial), n_trials=10)"
   ]
  },
  {
   "cell_type": "code",
   "execution_count": 152,
   "id": "3a651934",
   "metadata": {},
   "outputs": [
    {
     "data": {
      "text/plain": [
       "{'rsi_window': 22,\n",
       " 'rsi_lower': 22,\n",
       " 'rsi_upper': 84,\n",
       " 'stop_loss': 0.09623973680042153,\n",
       " 'take_profit': 0.04268779151306112,\n",
       " 'n_shares': 485}"
      ]
     },
     "execution_count": 152,
     "metadata": {},
     "output_type": "execute_result"
    }
   ],
   "source": [
    "study.best_params"
   ]
  },
  {
   "cell_type": "code",
   "execution_count": 153,
   "id": "b7502069",
   "metadata": {},
   "outputs": [],
   "source": [
    "rsi_indicator = ta.momentum.RSIIndicator(data.Close, window=20)"
   ]
  },
  {
   "cell_type": "code",
   "execution_count": 154,
   "id": "cdf18121",
   "metadata": {},
   "outputs": [
    {
     "data": {
      "text/plain": [
       "['__class__',\n",
       " '__delattr__',\n",
       " '__dict__',\n",
       " '__dir__',\n",
       " '__doc__',\n",
       " '__eq__',\n",
       " '__firstlineno__',\n",
       " '__format__',\n",
       " '__ge__',\n",
       " '__getattribute__',\n",
       " '__getstate__',\n",
       " '__gt__',\n",
       " '__hash__',\n",
       " '__init__',\n",
       " '__init_subclass__',\n",
       " '__le__',\n",
       " '__lt__',\n",
       " '__module__',\n",
       " '__ne__',\n",
       " '__new__',\n",
       " '__reduce__',\n",
       " '__reduce_ex__',\n",
       " '__repr__',\n",
       " '__setattr__',\n",
       " '__sizeof__',\n",
       " '__static_attributes__',\n",
       " '__str__',\n",
       " '__subclasshook__',\n",
       " '__weakref__',\n",
       " '_check_fillna',\n",
       " '_close',\n",
       " '_fillna',\n",
       " '_rsi',\n",
       " '_run',\n",
       " '_true_range',\n",
       " '_window',\n",
       " 'rsi']"
      ]
     },
     "execution_count": 154,
     "metadata": {},
     "output_type": "execute_result"
    }
   ],
   "source": [
    "dir(rsi_indicator)"
   ]
  },
  {
   "cell_type": "code",
   "execution_count": 155,
   "id": "6a6a2d28",
   "metadata": {},
   "outputs": [],
   "source": [
    "data[\"rsi\"] = rsi_indicator.rsi()"
   ]
  },
  {
   "cell_type": "code",
   "execution_count": 156,
   "id": "1c97821a",
   "metadata": {},
   "outputs": [
    {
     "name": "stderr",
     "output_type": "stream",
     "text": [
      "C:\\Users\\ppmel\\AppData\\Local\\Temp\\ipykernel_1524\\971527806.py:2: SettingWithCopyWarning: \n",
      "A value is trying to be set on a copy of a slice from a DataFrame.\n",
      "Try using .loc[row_indexer,col_indexer] = value instead\n",
      "\n",
      "See the caveats in the documentation: https://pandas.pydata.org/pandas-docs/stable/user_guide/indexing.html#returning-a-view-versus-a-copy\n",
      "  historic[\"buy_signal\"] = historic.rsi < 20\n",
      "C:\\Users\\ppmel\\AppData\\Local\\Temp\\ipykernel_1524\\971527806.py:3: SettingWithCopyWarning: \n",
      "A value is trying to be set on a copy of a slice from a DataFrame.\n",
      "Try using .loc[row_indexer,col_indexer] = value instead\n",
      "\n",
      "See the caveats in the documentation: https://pandas.pydata.org/pandas-docs/stable/user_guide/indexing.html#returning-a-view-versus-a-copy\n",
      "  historic[\"sell_signal\"] = historic.rsi > 80\n"
     ]
    }
   ],
   "source": [
    "historic = data.dropna()\n",
    "historic[\"buy_signal\"] = historic.rsi < 20\n",
    "historic[\"sell_signal\"] = historic.rsi > 80"
   ]
  },
  {
   "cell_type": "code",
   "execution_count": 157,
   "id": "411bc09e",
   "metadata": {},
   "outputs": [],
   "source": [
    "def get_portfolio_value(cash: float, long_ops: list[Operation], short_ops: list[Operation], current_price: float, n_shares: int) -> float:\n",
    "\n",
    "    val = cash\n",
    "\n",
    "    # Add long positions value\n",
    "\n",
    "    val += len(long_ops) * current_price * n_shares\n",
    "\n",
    "    # TO DO: Add short positions value\n",
    "\n",
    "    return val"
   ]
  },
  {
   "cell_type": "code",
   "execution_count": 158,
   "id": "8ce5f035",
   "metadata": {},
   "outputs": [],
   "source": [
    "from dataclasses import dataclass\n",
    "\n",
    "@dataclass\n",
    "class Operation:\n",
    "    time: str\n",
    "    price: float\n",
    "    stop_loss: float\n",
    "    take_profit: float\n",
    "    n_shares: int\n",
    "    type: str"
   ]
  },
  {
   "cell_type": "code",
   "execution_count": 159,
   "id": "bbf1b6b2",
   "metadata": {},
   "outputs": [],
   "source": [
    "COM = 0.125 / 100\n",
    "SL = 0.05\n",
    "TP = 0.05\n",
    "BORROW_RATE = 0.25/100\n",
    "\n",
    "cash = 1_000_000\n",
    "n_shares = 50\n",
    "\n",
    "\n",
    "active_long_positions= []\n",
    "\n",
    "portfolio_value = [cash]\n",
    "\n",
    "for i, row in historic.iterrows():\n",
    "    \n",
    "    # This only works for long positions\n",
    "    portfolio_value.append(get_portfolio_value(cash, active_long_positions, [], row.Close, n_shares))\n",
    "\n",
    "\n",
    "    # Close Operations\n",
    "    for position in active_long_positions.copy():\n",
    "        if row.Close > position.take_profit or row.Close < position.stop_loss:\n",
    "            cash += row.Close * position.n_shares * (1 - COM)\n",
    "            active_long_positions.remove(position)\n",
    "\n",
    "    # --- BUY\n",
    "    # Check Signal\n",
    "    if not row.buy_signal:\n",
    "        portfolio_value.append(get_portfolio_value(cash, active_long_positions, [], row.Close, n_shares))\n",
    "\n",
    "        continue\n",
    "\n",
    "    # Enough Cash?\n",
    "    if cash < row.Close * n_shares * (1 + COM):\n",
    "        portfolio_value.append(get_portfolio_value(cash, active_long_positions, [], row.Close, n_shares))\n",
    "\n",
    "        continue\n",
    "    # Discount Costs\n",
    "    cash -= row.Close * n_shares * (1 + COM)\n",
    "\n",
    "\n",
    "    # Save the Operation as active position\n",
    "    active_long_positions.append(\n",
    "        Operation(\n",
    "        time=row.Datetime,\n",
    "        price=row.Close,\n",
    "        take_profit=row.Close * (1 + TP),\n",
    "        stop_loss= row.Close * (1 - SL),\n",
    "        n_shares=n_shares,\n",
    "        type = \"LONG\"\n",
    "    )\n",
    ")\n",
    "\n",
    "    portfolio_value.append(get_portfolio_value(cash, active_long_positions, [], row.Close, n_shares))\n",
    "\n",
    "#añadimos al cash las posiciones que siguen abiertas cuando terminamos las posiciones\n",
    "\n",
    "cash += row.Close * len(active_long_positions) *(1 - COM)\n",
    "active_position = []"
   ]
  },
  {
   "cell_type": "code",
   "execution_count": 160,
   "id": "ec050b50",
   "metadata": {},
   "outputs": [
    {
     "data": {
      "text/plain": [
       "1007816.8160896875"
      ]
     },
     "execution_count": 160,
     "metadata": {},
     "output_type": "execute_result"
    }
   ],
   "source": [
    "cash"
   ]
  },
  {
   "cell_type": "code",
   "execution_count": 161,
   "id": "cb4077f3",
   "metadata": {},
   "outputs": [
    {
     "data": {
      "text/plain": [
       "[]"
      ]
     },
     "execution_count": 161,
     "metadata": {},
     "output_type": "execute_result"
    }
   ],
   "source": [
    "active_long_positions"
   ]
  },
  {
   "cell_type": "code",
   "execution_count": 162,
   "id": "0d8e9965",
   "metadata": {},
   "outputs": [
    {
     "data": {
      "text/plain": [
       "<Axes: >"
      ]
     },
     "execution_count": 162,
     "metadata": {},
     "output_type": "execute_result"
    },
    {
     "data": {
      "image/png": "[encoded data removed]",
      "text/plain": [
       "<Figure size 640x480 with 1 Axes>"
      ]
     },
     "metadata": {},
     "output_type": "display_data"
    }
   ],
   "source": [
    "historic.Close.plot()"
   ]
  },
  {
   "cell_type": "code",
   "execution_count": 163,
   "id": "8c692138",
   "metadata": {},
   "outputs": [
    {
     "data": {
      "text/plain": [
       "(1007816.8160896875, 0)"
      ]
     },
     "execution_count": 163,
     "metadata": {},
     "output_type": "execute_result"
    }
   ],
   "source": [
    "cash, len(active_long_positions)"
   ]
  },
  {
   "cell_type": "code",
   "execution_count": 164,
   "id": "e9d869b9",
   "metadata": {},
   "outputs": [
    {
     "data": {
      "text/plain": [
       "<Axes: >"
      ]
     },
     "execution_count": 164,
     "metadata": {},
     "output_type": "execute_result"
    },
    {
     "data": {
      "image/png": "[encoded data removed]",
      "text/plain": [
       "<Figure size 1200x600 with 1 Axes>"
      ]
     },
     "metadata": {},
     "output_type": "display_data"
    }
   ],
   "source": [
    "pd.Series(portfolio_value).plot(figsize=(12,6))"
   ]
  },
  {
   "cell_type": "code",
   "execution_count": null,
   "id": "10acef52",
   "metadata": {},
   "outputs": [],
   "source": []
  }
 ],
 "metadata": {
  "kernelspec": {
   "display_name": "Python 3",
   "language": "python",
   "name": "python3"
  },
  "language_info": {
   "codemirror_mode": {
    "name": "ipython",
    "version": 3
   },
   "file_extension": ".py",
   "mimetype": "text/x-python",
   "name": "python",
   "nbconvert_exporter": "python",
   "pygments_lexer": "ipython3",
   "version": "3.13.5"
  }
 },
 "nbformat": 4,
 "nbformat_minor": 5
}
