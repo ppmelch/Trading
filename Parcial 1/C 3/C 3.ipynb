{
 "cells": [
  {
   "cell_type": "markdown",
   "id": "f13e315b",
   "metadata": {},
   "source": [
    "# Microestructura y Sistemas de Trading\n",
    "## Market Microstructure Project\n",
    "\n",
    "- José Armando Melchor Soto\n"
   ]
  },
  {
   "cell_type": "markdown",
   "id": "cf8fc525",
   "metadata": {},
   "source": [
    "---"
   ]
  },
  {
   "cell_type": "markdown",
   "id": "0777498a",
   "metadata": {},
   "source": [
    "#### Traders\n",
    "- Informed (-)\n",
    "- Noisy (+)\n",
    "- Liquidity (+)\n"
   ]
  },
  {
   "cell_type": "markdown",
   "id": "cb225d55",
   "metadata": {},
   "source": [
    "---"
   ]
  },
  {
   "cell_type": "markdown",
   "id": "7bb30ff9",
   "metadata": {},
   "source": [
    "### Función\n"
   ]
  },
  {
   "cell_type": "markdown",
   "id": "abd21fbb",
   "metadata": {},
   "source": [
    "$$\n",
    "\\pi_{LB} : Prob Liq. Buy\n",
    "$$\n",
    "\n",
    "$$\n",
    "\\pi_{LS} : Prob Liq. Sell\n",
    "$$\n",
    "\n",
    "$$\n",
    "\\pi_{I} : Prob Informed Trade\n",
    "$$"
   ]
  },
  {
   "cell_type": "markdown",
   "id": "7ce45d42",
   "metadata": {},
   "source": [
    "$$U = \\pi _{LB} (A-S_0) + \\pi_{LS}(S_o-B\n",
    ")$$"
   ]
  },
  {
   "cell_type": "markdown",
   "id": "f2f24a6e",
   "metadata": {},
   "source": [
    "Las probabilidades dependen del spread"
   ]
  },
  {
   "cell_type": "markdown",
   "id": "29625f9a",
   "metadata": {},
   "source": [
    "---"
   ]
  }
 ],
 "metadata": {
  "language_info": {
   "name": "python"
  }
 },
 "nbformat": 4,
 "nbformat_minor": 5
}
