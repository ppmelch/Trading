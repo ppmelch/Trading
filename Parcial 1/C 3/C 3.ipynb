{
 "cells": [
  {
   "cell_type": "markdown",
   "id": "f13e315b",
   "metadata": {},
   "source": [
    "# Microestructura y Sistemas de Trading\n",
    "## --- Tema\n",
    "\n",
    "- José Armando Melchor Soto\n"
   ]
  },
  {
   "cell_type": "markdown",
   "id": "cf8fc525",
   "metadata": {},
   "source": [
    "---"
   ]
  },
  {
   "cell_type": "markdown",
   "id": "a8bf4d07",
   "metadata": {},
   "source": [
    "### Librerías "
   ]
  },
  {
   "cell_type": "code",
   "execution_count": null,
   "id": "651ecc6a",
   "metadata": {},
   "outputs": [],
   "source": [
    "import pandas as pd\n",
    "import numpy as np\n",
    "import matplotlib.pyplot as plt"
   ]
  },
  {
   "cell_type": "markdown",
   "id": "cb225d55",
   "metadata": {},
   "source": [
    "---"
   ]
  }
 ],
 "metadata": {
  "language_info": {
   "name": "python"
  }
 },
 "nbformat": 4,
 "nbformat_minor": 5
}
