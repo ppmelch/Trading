{
 "cells": [
  {
   "cell_type": "markdown",
   "id": "f13dfcda",
   "metadata": {},
   "source": [
    "# Microestructura y Sistemas de Trading\n",
    "## 001 Microstructure\n",
    "\n",
    "Presenta :\n",
    "\n",
    "- José Armando Melchor Soto\n"
   ]
  },
  {
   "cell_type": "markdown",
   "id": "24d5b3f4",
   "metadata": {},
   "source": [
    "---"
   ]
  },
  {
   "cell_type": "markdown",
   "id": "df829952",
   "metadata": {},
   "source": [
    "### Librerías "
   ]
  },
  {
   "cell_type": "code",
   "execution_count": 9,
   "id": "093a3ead",
   "metadata": {},
   "outputs": [],
   "source": [
    "import math\n",
    "import numpy as np\n",
    "import pandas as pd\n",
    "import plotly.graph_objects as go\n",
    "from scipy.integrate import quad\n",
    "from scipy.optimize import minimize"
   ]
  },
  {
   "cell_type": "markdown",
   "id": "69856349",
   "metadata": {},
   "source": [
    "---"
   ]
  },
  {
   "cell_type": "markdown",
   "id": "b49a26e2",
   "metadata": {},
   "source": [
    "### Funciones "
   ]
  },
  {
   "cell_type": "markdown",
   "id": "bdadae65",
   "metadata": {},
   "source": [
    "#### Función Earlang "
   ]
  },
  {
   "cell_type": "code",
   "execution_count": 10,
   "id": "81c61af8",
   "metadata": {},
   "outputs": [],
   "source": [
    "def earlang(S, k, lam):\n",
    "\n",
    "    return (lam**k * S**(k-1) * np.exp(-lam*S)) / math.factorial(k-1)"
   ]
  },
  {
   "cell_type": "markdown",
   "id": "79bab529",
   "metadata": {},
   "source": [
    "#### Función PLB"
   ]
  },
  {
   "cell_type": "code",
   "execution_count": 11,
   "id": "47a3cdfb",
   "metadata": {},
   "outputs": [],
   "source": [
    "def p_lb(spreads):\n",
    "\n",
    "    return np.maximum(0.5 - 0.08 * spreads, 0)"
   ]
  },
  {
   "cell_type": "markdown",
   "id": "f32c167c",
   "metadata": {},
   "source": [
    "#### Función PLS"
   ]
  },
  {
   "cell_type": "code",
   "execution_count": 12,
   "id": "62c82076",
   "metadata": {},
   "outputs": [],
   "source": [
    "def p_ls(spreads):\n",
    "    \n",
    "    return np.maximum(0.5 - 0.08 * spreads, 0)"
   ]
  },
  {
   "cell_type": "markdown",
   "id": "9e0c0f02",
   "metadata": {},
   "source": [
    "#### Función Objetivo"
   ]
  },
  {
   "cell_type": "code",
   "execution_count": 13,
   "id": "64e824fc",
   "metadata": {},
   "outputs": [],
   "source": [
    "def objective(x, p_i, S0, k, lam):\n",
    "\n",
    "     Ka, Kb = x\n",
    "     \n",
    "     p1 = (1 - p_i) * (p_lb(Ka - S0) * (Ka - S0) + (p_lb(S0 - Kb) * (S0 - Kb)))\n",
    "     \n",
    "     p2 = quad(lambda S: (S - Ka) * earlang(S, k, lam), Ka, np.inf)[0]\n",
    "\n",
    "     p3 = quad(lambda S: (Kb - S) * earlang(S, k, lam), 0, Kb)[0]\n",
    "     \n",
    "     return -(p1 - p_i * (p2 + p3))"
   ]
  },
  {
   "cell_type": "markdown",
   "id": "e6c8c68b",
   "metadata": {},
   "source": [
    "#### Función Optimal Bid-Ask"
   ]
  },
  {
   "cell_type": "code",
   "execution_count": 14,
   "id": "9534f24e",
   "metadata": {},
   "outputs": [],
   "source": [
    "def optimize_bid_ask(S0, p_i, k, lam):\n",
    "\n",
    "    x0 = [S0+1, S0-1]\n",
    "\n",
    "    bounds = [(10, 33), (10, 33)]\n",
    "    \n",
    "    constraint = {'type': 'ineq', 'fun': lambda x: x[0] - x[1]}  \n",
    "\n",
    "    result = minimize(objective, x0, method=\"SLSQP\", args=(p_i, S0, k, lam), bounds=bounds, constraints=constraint)\n",
    "\n",
    "    ask, bid = result.x\n",
    "\n",
    "    return ask, bid"
   ]
  },
  {
   "cell_type": "markdown",
   "id": "69b729fc",
   "metadata": {},
   "source": [
    "#### Función Gráfica Price Distribution"
   ]
  },
  {
   "cell_type": "code",
   "execution_count": 15,
   "id": "fab39c3b",
   "metadata": {},
   "outputs": [],
   "source": [
    "def price_distribution(x=S, y=earlang):\n",
    "\n",
    "    fig = go.Figure()\n",
    "    \n",
    "    fig.add_trace(go.Scatter(x=x, y=y, mode='lines', name='Price Distribution'))\n",
    "    \n",
    "    fig.update_layout(\n",
    "        title=\"Price Distribution\",\n",
    "        xaxis_title=\"S\",\n",
    "        yaxis_title=\"Probability Density\"\n",
    "    )\n",
    "    \n",
    "    fig.show()"
   ]
  },
  {
   "cell_type": "markdown",
   "id": "e4d81ba8",
   "metadata": {},
   "source": [
    "#### Función Gráfica Expected Revenue "
   ]
  },
  {
   "cell_type": "code",
   "execution_count": 16,
   "id": "d0cfe4ef",
   "metadata": {},
   "outputs": [],
   "source": [
    "def expected_revenue(spread, fun):\n",
    "\n",
    "    fig = go.Figure()\n",
    "\n",
    "    fig.add_trace(go.Scatter(x=spread, y=fun, mode='lines' , name= 'O'))\n",
    "\n",
    "    fig.add_trace(go.Scatter(x=spread, y= (1-p_i)* spread, mode='lines', name= 'R'))\n",
    "\n",
    "    fig.add_trace(go.Scatter(x=spread, y= spread, mode='lines', name= 'Q'))\n",
    "\n",
    "    fig.update_layout(\n",
    "        title=\"Expected Revenue\",\n",
    "        xaxis_title=\"Spread\",\n",
    "        yaxis_title=\"Payoff\"\n",
    "    )\n",
    "\n",
    "    fig.show()"
   ]
  },
  {
   "cell_type": "markdown",
   "id": "bbba1568",
   "metadata": {},
   "source": [
    "#### Función Gráfica Bid-Ask"
   ]
  },
  {
   "cell_type": "code",
   "execution_count": 17,
   "id": "a5ec8d59",
   "metadata": {},
   "outputs": [],
   "source": [
    "def Bid_Ask(S, S0, ask, bid, ear): \n",
    "    \n",
    "    fig = go.Figure()\n",
    "    \n",
    "    fig.add_trace(go.Scatter(x=S, y=ear, mode='lines', name='Price Distribution'))\n",
    "    \n",
    "    fig.add_trace(go.Scatter(x=[S0, S0], y=[0, max(ear)], mode=\"lines\", line=dict(color=\"black\", dash=\"dash\", width=2), name=f\"S0 = {S0:.2f}\"))\n",
    "    \n",
    "    fig.add_trace(go.Scatter(x=[ask, ask], y=[0, max(ear)], mode=\"lines\", line=dict(color=\"red\", dash=\"dash\", width=2), name=f\"Ask = {ask:.2f}\")) \n",
    "    \n",
    "    fig.add_trace(go.Scatter(x=[bid, bid], y=[0, max(ear)], mode=\"lines\", line=dict(color=\"blue\", dash=\"dash\", width=2), name=f\"Bid = {bid:.2f}\")) \n",
    "    \n",
    "    fig.update_layout(title=\"Optimal Bid-Ask\", xaxis_title=\"S\", yaxis_title=\"Probability Density\") \n",
    "    \n",
    "    fig.show()\n"
   ]
  },
  {
   "cell_type": "markdown",
   "id": "68cd8aae",
   "metadata": {},
   "source": [
    "---"
   ]
  },
  {
   "cell_type": "markdown",
   "id": "7145a9a7",
   "metadata": {},
   "source": [
    "### Parámetros"
   ]
  },
  {
   "cell_type": "code",
   "execution_count": 18,
   "id": "4e939957",
   "metadata": {},
   "outputs": [],
   "source": [
    "k= 60\n",
    "lam= 3\n",
    "S0 = 19.90\n",
    "p_i = 0.4\n",
    "S = np.linspace(10, 33, 100)\n",
    "bounds = [(10, 33), (10, 33)]"
   ]
  },
  {
   "cell_type": "markdown",
   "id": "77c8586b",
   "metadata": {},
   "source": [
    "### Price Distribution"
   ]
  },
  {
   "cell_type": "code",
   "execution_count": 19,
   "id": "2762c9f5",
   "metadata": {},
   "outputs": [
    {
     "data": {
      "application/vnd.plotly.v1+json": {
       "config": {
        "plotlyServerURL": "https://plot.ly"
       },
       "data": [
        {
         "mode": "lines",
         "name": "Price Distribution",
         "type": "scatter",
         "x": {
          "bdata": "AAAAAAAAJEDM2xkS83YkQJm3MyTm7SRAZZNNNtlkJUAxb2dIzNslQP1KgVq/UiZAyiabbLLJJkCWArV+pUAnQGLezpCYtydALrrooosuKED7lQK1fqUoQMdxHMdxHClAlE022WSTKUBgKVDrVwoqQCwFav1KgSpA+OCDDz74KkDEvJ0hMW8rQJGYtzMk5itAXXTRRRddLEAqUOtXCtQsQPYrBWr9Si1AwgcffPDBLUCO4ziO4zguQFq/UqDWry5AJ5tssskmL0DzdobEvJ0vQGApUOtXCjBARhdddNFFMEAsBWr9SoEwQBLzdobEvDBA+OCDDz74MEDezpCYtzMxQMS8nSExbzFAq6qqqqqqMUCRmLczJOYxQHeGxLydITJAXXTRRRddMkBDYt7OkJgyQCpQ61cK1DJAED744IMPM0D2KwVq/UozQNwZEvN2hjNAwgcffPDBM0Co9SsFav0zQI7jOI7jODRAdNFFF110NEBav1Kg1q80QECtXylQ6zRAJ5tssskmNUANiXk7Q2I1QPN2hsS8nTVA2WSTTTbZNUDAUqDWrxQ2QKZArV8pUDZAjC666KKLNkByHMdxHMc2QFgK1PqVAjdAPvjggw8+N0Ak5u0MiXk3QArU+pUCtTdA8MEHH3zwN0DWrxSo9Ss4QLydITFvZzhAo4suuuiiOECJeTtDYt44QG9nSMzbGTlAVlVVVVVVOUA8Q2LezpA5QCIxb2dIzDlACB988MEHOkDuDIl5O0M6QNT6lQK1fjpAuuiiiy66OkCg1q8UqPU6QIbEvJ0hMTtAbbLJJptsO0BToNavFKg7QDmO4ziO4ztAH3zwwQcfPEAFav1KgVo8QOtXCtT6lTxA0UUXXXTRPEC4MyTm7Qw9QJ4hMW9nSD1AhA8++OCDPUBq/UqBWr89QFDrVwrU+j1ANtlkk002PkAcx3Ecx3E+QAO1fqVArT5A6aKLLrroPkDPkJi3MyQ/QLV+pUCtXz9Am2yyySabP0CBWr9SoNY/QDQk5u0MCUBAJ5tssskmQEAaEvN2hkRAQA2JeTtDYkBAAAAAAACAQEA=",
          "dtype": "f8"
         },
         "y": {
          "bdata": "ZYWk+ob+xz4NWhakuSrXPqqjVR6ksuU+1WJvl0O98z61iQ4c8HYBPyIxFZlCFw4/AEfu+bJEGT9JsNkgWLQkP8f8Cl3fkTA/eoTXjIDtOT+10iKHH9lDP0FNt5/qwU0/fIN9eWTcVT+HcvzxBIBfP/dqmme3RWY/4OJyrvjtbj+k3hnAYhp1P9vUWpJMUHw/JP8EOoevgj+xVBALmkaIPxaPnB/8Do8/OqgR4k2Tkz+FkDBoxFKYP0pIEuTezZ0/HCuI9sEDoj/5MDuVTX6lP9d2OD+uUak/Hdd5/XN1rT8mhrr9zO6wP/Tark5WPbM/NK5NvA+dtT/2ZyhYaAO4P6KfN//ZZLo/xB/9bU61vD9IKG+Djui+P+ngrM9aecA/QtBRZVFkwT/AocvHMDDCPxQ4jIbC2MI/QtzQZ7hawz/617EexrPDPxUwrmWv4sM/AoUZUUrnwz/fY6hbdsLDPxb9rkgJdsM/MXN+crMEwz9Hj/Nx3XHCPy+4czyBwcE/KScl4AD4wD8Zu7ru/BnAP5Ftp+ZYWL4/tttKDXBmvD9yAtt6Mme6P/nh557+Yrg/y6rp73Jhtj+nk7ZxTmm0P8DcaLpcgLI/5wlWr2yrsD+FdT+lodytP2wvNW/Pl6o/w6zLHlaMpz8Cyilph7ykP7mZQlFCKaI/k8YUTUyknz8Uz+33jWubP+JH+N/Co5c/mC7gExhHlD8CCI66yU6RPwF6xybqZo0/vF9pMMDaiD/68/qTbOmEP7CmUG11g4E/l1zGu74zfT+0LxHD0zx4Pzi0v/l0B3Q/mZYV5PF6cD8aD2n8egFrP74P2YrwCGY/+60hGdPnYT+UZjf/r/tcP4gNPzpDXVc/2pFC6PHCUj8UfP5n/gNOP5b1MVN460c/D3z6ncf9Qj93Se8v7gs+P6BJoeftrjc/GiRpLgSaMj8t0ttWbB4tP+BowCWJtiY/iT3LMRWoIT/P9BiZOVwbP73hbjACIRU/HM2Ud5xDED9bRTbchPUIP2xPdd5UFwM//3iPNYId/T4uW1RMOyL2Pp4gEiSWxvA+PyLUeq5a6T4=",
          "dtype": "f8"
         }
        }
       ],
       "layout": {
        "template": {
         "data": {
          "bar": [
           {
            "error_x": {
             "color": "#2a3f5f"
            },
            "error_y": {
             "color": "#2a3f5f"
            },
            "marker": {
             "line": {
              "color": "#E5ECF6",
              "width": 0.5
             },
             "pattern": {
              "fillmode": "overlay",
              "size": 10,
              "solidity": 0.2
             }
            },
            "type": "bar"
           }
          ],
          "barpolar": [
           {
            "marker": {
             "line": {
              "color": "#E5ECF6",
              "width": 0.5
             },
             "pattern": {
              "fillmode": "overlay",
              "size": 10,
              "solidity": 0.2
             }
            },
            "type": "barpolar"
           }
          ],
          "carpet": [
           {
            "aaxis": {
             "endlinecolor": "#2a3f5f",
             "gridcolor": "white",
             "linecolor": "white",
             "minorgridcolor": "white",
             "startlinecolor": "#2a3f5f"
            },
            "baxis": {
             "endlinecolor": "#2a3f5f",
             "gridcolor": "white",
             "linecolor": "white",
             "minorgridcolor": "white",
             "startlinecolor": "#2a3f5f"
            },
            "type": "carpet"
           }
          ],
          "choropleth": [
           {
            "colorbar": {
             "outlinewidth": 0,
             "ticks": ""
            },
            "type": "choropleth"
           }
          ],
          "contour": [
           {
            "colorbar": {
             "outlinewidth": 0,
             "ticks": ""
            },
            "colorscale": [
             [
              0,
              "#0d0887"
             ],
             [
              0.1111111111111111,
              "#46039f"
             ],
             [
              0.2222222222222222,
              "#7201a8"
             ],
             [
              0.3333333333333333,
              "#9c179e"
             ],
             [
              0.4444444444444444,
              "#bd3786"
             ],
             [
              0.5555555555555556,
              "#d8576b"
             ],
             [
              0.6666666666666666,
              "#ed7953"
             ],
             [
              0.7777777777777778,
              "#fb9f3a"
             ],
             [
              0.8888888888888888,
              "#fdca26"
             ],
             [
              1,
              "#f0f921"
             ]
            ],
            "type": "contour"
           }
          ],
          "contourcarpet": [
           {
            "colorbar": {
             "outlinewidth": 0,
             "ticks": ""
            },
            "type": "contourcarpet"
           }
          ],
          "heatmap": [
           {
            "colorbar": {
             "outlinewidth": 0,
             "ticks": ""
            },
            "colorscale": [
             [
              0,
              "#0d0887"
             ],
             [
              0.1111111111111111,
              "#46039f"
             ],
             [
              0.2222222222222222,
              "#7201a8"
             ],
             [
              0.3333333333333333,
              "#9c179e"
             ],
             [
              0.4444444444444444,
              "#bd3786"
             ],
             [
              0.5555555555555556,
              "#d8576b"
             ],
             [
              0.6666666666666666,
              "#ed7953"
             ],
             [
              0.7777777777777778,
              "#fb9f3a"
             ],
             [
              0.8888888888888888,
              "#fdca26"
             ],
             [
              1,
              "#f0f921"
             ]
            ],
            "type": "heatmap"
           }
          ],
          "histogram": [
           {
            "marker": {
             "pattern": {
              "fillmode": "overlay",
              "size": 10,
              "solidity": 0.2
             }
            },
            "type": "histogram"
           }
          ],
          "histogram2d": [
           {
            "colorbar": {
             "outlinewidth": 0,
             "ticks": ""
            },
            "colorscale": [
             [
              0,
              "#0d0887"
             ],
             [
              0.1111111111111111,
              "#46039f"
             ],
             [
              0.2222222222222222,
              "#7201a8"
             ],
             [
              0.3333333333333333,
              "#9c179e"
             ],
             [
              0.4444444444444444,
              "#bd3786"
             ],
             [
              0.5555555555555556,
              "#d8576b"
             ],
             [
              0.6666666666666666,
              "#ed7953"
             ],
             [
              0.7777777777777778,
              "#fb9f3a"
             ],
             [
              0.8888888888888888,
              "#fdca26"
             ],
             [
              1,
              "#f0f921"
             ]
            ],
            "type": "histogram2d"
           }
          ],
          "histogram2dcontour": [
           {
            "colorbar": {
             "outlinewidth": 0,
             "ticks": ""
            },
            "colorscale": [
             [
              0,
              "#0d0887"
             ],
             [
              0.1111111111111111,
              "#46039f"
             ],
             [
              0.2222222222222222,
              "#7201a8"
             ],
             [
              0.3333333333333333,
              "#9c179e"
             ],
             [
              0.4444444444444444,
              "#bd3786"
             ],
             [
              0.5555555555555556,
              "#d8576b"
             ],
             [
              0.6666666666666666,
              "#ed7953"
             ],
             [
              0.7777777777777778,
              "#fb9f3a"
             ],
             [
              0.8888888888888888,
              "#fdca26"
             ],
             [
              1,
              "#f0f921"
             ]
            ],
            "type": "histogram2dcontour"
           }
          ],
          "mesh3d": [
           {
            "colorbar": {
             "outlinewidth": 0,
             "ticks": ""
            },
            "type": "mesh3d"
           }
          ],
          "parcoords": [
           {
            "line": {
             "colorbar": {
              "outlinewidth": 0,
              "ticks": ""
             }
            },
            "type": "parcoords"
           }
          ],
          "pie": [
           {
            "automargin": true,
            "type": "pie"
           }
          ],
          "scatter": [
           {
            "fillpattern": {
             "fillmode": "overlay",
             "size": 10,
             "solidity": 0.2
            },
            "type": "scatter"
           }
          ],
          "scatter3d": [
           {
            "line": {
             "colorbar": {
              "outlinewidth": 0,
              "ticks": ""
             }
            },
            "marker": {
             "colorbar": {
              "outlinewidth": 0,
              "ticks": ""
             }
            },
            "type": "scatter3d"
           }
          ],
          "scattercarpet": [
           {
            "marker": {
             "colorbar": {
              "outlinewidth": 0,
              "ticks": ""
             }
            },
            "type": "scattercarpet"
           }
          ],
          "scattergeo": [
           {
            "marker": {
             "colorbar": {
              "outlinewidth": 0,
              "ticks": ""
             }
            },
            "type": "scattergeo"
           }
          ],
          "scattergl": [
           {
            "marker": {
             "colorbar": {
              "outlinewidth": 0,
              "ticks": ""
             }
            },
            "type": "scattergl"
           }
          ],
          "scattermap": [
           {
            "marker": {
             "colorbar": {
              "outlinewidth": 0,
              "ticks": ""
             }
            },
            "type": "scattermap"
           }
          ],
          "scattermapbox": [
           {
            "marker": {
             "colorbar": {
              "outlinewidth": 0,
              "ticks": ""
             }
            },
            "type": "scattermapbox"
           }
          ],
          "scatterpolar": [
           {
            "marker": {
             "colorbar": {
              "outlinewidth": 0,
              "ticks": ""
             }
            },
            "type": "scatterpolar"
           }
          ],
          "scatterpolargl": [
           {
            "marker": {
             "colorbar": {
              "outlinewidth": 0,
              "ticks": ""
             }
            },
            "type": "scatterpolargl"
           }
          ],
          "scatterternary": [
           {
            "marker": {
             "colorbar": {
              "outlinewidth": 0,
              "ticks": ""
             }
            },
            "type": "scatterternary"
           }
          ],
          "surface": [
           {
            "colorbar": {
             "outlinewidth": 0,
             "ticks": ""
            },
            "colorscale": [
             [
              0,
              "#0d0887"
             ],
             [
              0.1111111111111111,
              "#46039f"
             ],
             [
              0.2222222222222222,
              "#7201a8"
             ],
             [
              0.3333333333333333,
              "#9c179e"
             ],
             [
              0.4444444444444444,
              "#bd3786"
             ],
             [
              0.5555555555555556,
              "#d8576b"
             ],
             [
              0.6666666666666666,
              "#ed7953"
             ],
             [
              0.7777777777777778,
              "#fb9f3a"
             ],
             [
              0.8888888888888888,
              "#fdca26"
             ],
             [
              1,
              "#f0f921"
             ]
            ],
            "type": "surface"
           }
          ],
          "table": [
           {
            "cells": {
             "fill": {
              "color": "#EBF0F8"
             },
             "line": {
              "color": "white"
             }
            },
            "header": {
             "fill": {
              "color": "#C8D4E3"
             },
             "line": {
              "color": "white"
             }
            },
            "type": "table"
           }
          ]
         },
         "layout": {
          "annotationdefaults": {
           "arrowcolor": "#2a3f5f",
           "arrowhead": 0,
           "arrowwidth": 1
          },
          "autotypenumbers": "strict",
          "coloraxis": {
           "colorbar": {
            "outlinewidth": 0,
            "ticks": ""
           }
          },
          "colorscale": {
           "diverging": [
            [
             0,
             "#8e0152"
            ],
            [
             0.1,
             "#c51b7d"
            ],
            [
             0.2,
             "#de77ae"
            ],
            [
             0.3,
             "#f1b6da"
            ],
            [
             0.4,
             "#fde0ef"
            ],
            [
             0.5,
             "#f7f7f7"
            ],
            [
             0.6,
             "#e6f5d0"
            ],
            [
             0.7,
             "#b8e186"
            ],
            [
             0.8,
             "#7fbc41"
            ],
            [
             0.9,
             "#4d9221"
            ],
            [
             1,
             "#276419"
            ]
           ],
           "sequential": [
            [
             0,
             "#0d0887"
            ],
            [
             0.1111111111111111,
             "#46039f"
            ],
            [
             0.2222222222222222,
             "#7201a8"
            ],
            [
             0.3333333333333333,
             "#9c179e"
            ],
            [
             0.4444444444444444,
             "#bd3786"
            ],
            [
             0.5555555555555556,
             "#d8576b"
            ],
            [
             0.6666666666666666,
             "#ed7953"
            ],
            [
             0.7777777777777778,
             "#fb9f3a"
            ],
            [
             0.8888888888888888,
             "#fdca26"
            ],
            [
             1,
             "#f0f921"
            ]
           ],
           "sequentialminus": [
            [
             0,
             "#0d0887"
            ],
            [
             0.1111111111111111,
             "#46039f"
            ],
            [
             0.2222222222222222,
             "#7201a8"
            ],
            [
             0.3333333333333333,
             "#9c179e"
            ],
            [
             0.4444444444444444,
             "#bd3786"
            ],
            [
             0.5555555555555556,
             "#d8576b"
            ],
            [
             0.6666666666666666,
             "#ed7953"
            ],
            [
             0.7777777777777778,
             "#fb9f3a"
            ],
            [
             0.8888888888888888,
             "#fdca26"
            ],
            [
             1,
             "#f0f921"
            ]
           ]
          },
          "colorway": [
           "#636efa",
           "#EF553B",
           "#00cc96",
           "#ab63fa",
           "#FFA15A",
           "#19d3f3",
           "#FF6692",
           "#B6E880",
           "#FF97FF",
           "#FECB52"
          ],
          "font": {
           "color": "#2a3f5f"
          },
          "geo": {
           "bgcolor": "white",
           "lakecolor": "white",
           "landcolor": "#E5ECF6",
           "showlakes": true,
           "showland": true,
           "subunitcolor": "white"
          },
          "hoverlabel": {
           "align": "left"
          },
          "hovermode": "closest",
          "mapbox": {
           "style": "light"
          },
          "paper_bgcolor": "white",
          "plot_bgcolor": "#E5ECF6",
          "polar": {
           "angularaxis": {
            "gridcolor": "white",
            "linecolor": "white",
            "ticks": ""
           },
           "bgcolor": "#E5ECF6",
           "radialaxis": {
            "gridcolor": "white",
            "linecolor": "white",
            "ticks": ""
           }
          },
          "scene": {
           "xaxis": {
            "backgroundcolor": "#E5ECF6",
            "gridcolor": "white",
            "gridwidth": 2,
            "linecolor": "white",
            "showbackground": true,
            "ticks": "",
            "zerolinecolor": "white"
           },
           "yaxis": {
            "backgroundcolor": "#E5ECF6",
            "gridcolor": "white",
            "gridwidth": 2,
            "linecolor": "white",
            "showbackground": true,
            "ticks": "",
            "zerolinecolor": "white"
           },
           "zaxis": {
            "backgroundcolor": "#E5ECF6",
            "gridcolor": "white",
            "gridwidth": 2,
            "linecolor": "white",
            "showbackground": true,
            "ticks": "",
            "zerolinecolor": "white"
           }
          },
          "shapedefaults": {
           "line": {
            "color": "#2a3f5f"
           }
          },
          "ternary": {
           "aaxis": {
            "gridcolor": "white",
            "linecolor": "white",
            "ticks": ""
           },
           "baxis": {
            "gridcolor": "white",
            "linecolor": "white",
            "ticks": ""
           },
           "bgcolor": "#E5ECF6",
           "caxis": {
            "gridcolor": "white",
            "linecolor": "white",
            "ticks": ""
           }
          },
          "title": {
           "x": 0.05
          },
          "xaxis": {
           "automargin": true,
           "gridcolor": "white",
           "linecolor": "white",
           "ticks": "",
           "title": {
            "standoff": 15
           },
           "zerolinecolor": "white",
           "zerolinewidth": 2
          },
          "yaxis": {
           "automargin": true,
           "gridcolor": "white",
           "linecolor": "white",
           "ticks": "",
           "title": {
            "standoff": 15
           },
           "zerolinecolor": "white",
           "zerolinewidth": 2
          }
         }
        },
        "title": {
         "text": "Price Distribution"
        },
        "xaxis": {
         "title": {
          "text": "S"
         }
        },
        "yaxis": {
         "title": {
          "text": "Probability Density"
         }
        }
       }
      }
     },
     "metadata": {},
     "output_type": "display_data"
    }
   ],
   "source": [
    "ear = earlang(S, k, lam)\n",
    "\n",
    "price_distribution(S, ear)"
   ]
  },
  {
   "cell_type": "markdown",
   "id": "2f331fbc",
   "metadata": {},
   "source": [
    "### Expected Revenue"
   ]
  },
  {
   "attachments": {
    "image.png": {
     "image/png": "[encoded data removed]"
    }
   },
   "cell_type": "markdown",
   "id": "2df5b92c",
   "metadata": {},
   "source": [
    "![image.png](attachment:image.png)"
   ]
  },
  {
   "cell_type": "code",
   "execution_count": 20,
   "id": "f94ccc24",
   "metadata": {},
   "outputs": [
    {
     "data": {
      "application/vnd.plotly.v1+json": {
       "config": {
        "plotlyServerURL": "https://plot.ly"
       },
       "data": [
        {
         "mode": "lines",
         "name": "O",
         "type": "scatter",
         "x": {
          "bdata": "AAAAAAAAAAAIH3zwwQevPwgffPDBB78/RhdddNFFxz8IH3zwwQfPP2WTTTbZZNM/RhdddNFF1z8nm2yyySbbPwgffPDBB98/dNFFF1104T9lk0022WTjP1ZVVVVVVeU/RhdddNFF5z822WSTTTbpPyebbLLJJus/GF100UUX7T8IH3zwwQfvP3zwwQcffPA/dNFFF1108T9tsskmm2zyP2WTTTbZZPM/XXTRRRdd9D9WVVVVVVX1P0422WSTTfY/RhdddNFF9z8++OCDDz74PzbZZJNNNvk/L7rooosu+j8nm2yyySb7Px988MEHH/w/GF100UUX/T8QPvjggw/+PwgffPDBB/8/AAAAAAAAAEB88MEHH3wAQPjggw8++ABAdNFFF110AUDxwQcffPABQG2yySabbAJA6aKLLrroAkBlk0022WQDQOGDDz744ANAXXTRRRddBEDZZJNNNtkEQFZVVVVVVQVA0kUXXXTRBUBONtlkk00GQMomm2yyyQZARhdddNFFB0DCBx988MEHQD744IMPPghAuuiiiy66CEA22WSTTTYJQLPJJptssglAL7rooosuCkCrqqqqqqoKQCebbLLJJgtAo4suuuiiC0AffPDBBx8MQJtssskmmwxAGF100UUXDUCUTTbZZJMNQBA++OCDDw5AjC666KKLDkAIH3zwwQcPQIQPPvjggw9AAAAAAAAAEEA++OCDDz4QQHzwwQcffBBAuuiiiy66EED44IMPPvgQQDbZZJNNNhFAdNFFF110EUCzySabbLIRQPHBBx988BFAL7rooosuEkBtsskmm2wSQKuqqqqqqhJA6aKLLrroEkAnm2yyySYTQGWTTTbZZBNAo4suuuiiE0Dhgw8++OATQB988MEHHxRAXXTRRRddFECbbLLJJpsUQNlkk0022RRAF1100UUXFUBWVVVVVVUVQJRNNtlkkxVA0kUXXXTRFUAQPvjggw8WQE422WSTTRZAjC666KKLFkDKJptssskWQAgffPDBBxdARhdddNFFF0CEDz744IMXQMIHH3zwwRdAAAAAAAAAGEA=",
          "dtype": "f8"
         },
         "y": {
          "bdata": "AAAAAAAAAAAXFz1MCXCSP5Eblm7RQaI/ELBmWWYdqz+DJEizYeWxPz1zCUv0JLY/MkT382pNuj9jlxGuxV6+P2k2rDyCLME/PuLlqhMewz8zz7UhFwTFP0X9G6GM3sY/dmwYKXStyD/EHKu5zXDKPzIO1FKZKMw/vkCT9NbUzT9ntOiehnXPP5g06ihUhdA/iy+rBh5K0T8NS7foIAnSPx+HDs9cwtI/wOOwudF10z/xYJ6ofyPUP6/+1ptmy9Q//rxak4Zt1T/bmymP3wnWP0ebQ49xoNY/RLuokzwx1z/P+1icQLzXP+lcVKl9Qdg/kt6auvPA2D/KgCzQojrZP5NDCeqKrtk/6SYxCKwc2j/PKqQqBoXaP0RPYlGZ59o/SJRrfGVE2z/c+b+rapvbP/9/X9+o7Ns/sSZKFyA43D/y7X9T0H3cP8LVAJS5vdw/It7M2Nv33D8QB+QhNyzdP41QRm/LWt0/m7rzwJiD3T83RewWn6bdP2LwL3Hew90/HLy+z1bb3T9mqJgyCO3dPz61vZny+N0/pOItBRb/3T+cMOl0cv/dPyOf7+gH+t0/OS5BYdbu3T/d3d3d3d3dPxCuxV4ex90/1J7445eq3T8osHZtSojdPwfiP/s1YN0/dzRUjVoy3T93p7MjuP7cPwQ7Xr5Oxdw/I+9TXR6G3D/Sw5QAJ0HcPwy5IKho9ts/2c73U+Ol2z80BRoEl0/bPxxch7iD89o/ltM/camR2j+ga0MuCCraPzUkku+fvNk/XP0rtXBJ2T8P9xB/etDYP1URQU29Udg/J0y8HznN1z+Mp4L27ULXP38jlNHbstY//r/wsAId1j8QfZiUYoHVP7Jai3z739Q/31jJaM041D+ed1JZ2IvTP+y2Jk4c2dI/xxZGR5kg0j80l7BET2LRPy04ZkY+ntA/cPPNmMyozz+at2WtjgnOP+28k8rCXsw/XgNY8Gioyj/pirIegebIP5dTo1ULGcc/Y10qlQdAxT9HqEfddVvDP1E0+y1Wa8E/8gKKDlHfvj9wH0rS2dC6Pzq+NqdGq7Y/QN9PjZdusj8=",
          "dtype": "f8"
         }
        },
        {
         "mode": "lines",
         "name": "R",
         "type": "scatter",
         "x": {
          "bdata": "AAAAAAAAAAAIH3zwwQevPwgffPDBB78/RhdddNFFxz8IH3zwwQfPP2WTTTbZZNM/RhdddNFF1z8nm2yyySbbPwgffPDBB98/dNFFF1104T9lk0022WTjP1ZVVVVVVeU/RhdddNFF5z822WSTTTbpPyebbLLJJus/GF100UUX7T8IH3zwwQfvP3zwwQcffPA/dNFFF1108T9tsskmm2zyP2WTTTbZZPM/XXTRRRdd9D9WVVVVVVX1P0422WSTTfY/RhdddNFF9z8++OCDDz74PzbZZJNNNvk/L7rooosu+j8nm2yyySb7Px988MEHH/w/GF100UUX/T8QPvjggw/+PwgffPDBB/8/AAAAAAAAAEB88MEHH3wAQPjggw8++ABAdNFFF110AUDxwQcffPABQG2yySabbAJA6aKLLrroAkBlk0022WQDQOGDDz744ANAXXTRRRddBEDZZJNNNtkEQFZVVVVVVQVA0kUXXXTRBUBONtlkk00GQMomm2yyyQZARhdddNFFB0DCBx988MEHQD744IMPPghAuuiiiy66CEA22WSTTTYJQLPJJptssglAL7rooosuCkCrqqqqqqoKQCebbLLJJgtAo4suuuiiC0AffPDBBx8MQJtssskmmwxAGF100UUXDUCUTTbZZJMNQBA++OCDDw5AjC666KKLDkAIH3zwwQcPQIQPPvjggw9AAAAAAAAAEEA++OCDDz4QQHzwwQcffBBAuuiiiy66EED44IMPPvgQQDbZZJNNNhFAdNFFF110EUCzySabbLIRQPHBBx988BFAL7rooosuEkBtsskmm2wSQKuqqqqqqhJA6aKLLrroEkAnm2yyySYTQGWTTTbZZBNAo4suuuiiE0Dhgw8++OATQB988MEHHxRAXXTRRRddFECbbLLJJpsUQNlkk0022RRAF1100UUXFUBWVVVVVVUVQJRNNtlkkxVA0kUXXXTRFUAQPvjggw8WQE422WSTTRZAjC666KKLFkDKJptssskWQAgffPDBBxdARhdddNFFF0CEDz744IMXQMIHH3zwwRdAAAAAAAAAGEA=",
          "dtype": "f8"
         },
         "y": {
          "bdata": "AAAAAAAAAACeEuQpQZ6iP54S5ClBnrI/7RvWvmHtuz+eEuQpQZ7CP0YXXXTRRcc/7RvWvmHtyz9KkKcEeUrQP54S5ClBntI/8ZQgTwny1D9GF1100UXXP5qZmZmZmdk/7RvWvmHt2z9AnhLkKUHeP0qQpwR5SuA/ddFFF1104T+eEuQpQZ7iP8hTgjwlyOM/8ZQgTwny5D8c1r5h7RvmP0YXXXTRRec/b1j7hrVv6D+amZmZmZnpP8TaN6x9w+o/7RvWvmHt6z8XXXTRRRftP0CeEuQpQe4/a9+w9g1r7z9KkKcEeUrwP9+w9g1r3/A/ddFFF1108T8J8pQgTwnyP54S5ClBnvI/MzMzMzMz8z/IU4I8JcjzP1100UUXXfQ/8ZQgTwny9D+HtW9Y+4b1PxzWvmHtG/Y/sfYNa9+w9j9GF1100UX3P9s3rH3D2vc/b1j7hrVv+D8EeUqQpwT5P5qZmZmZmfk/L7rooosu+j/E2jesfcP6P1n7hrVvWPs/7RvWvmHt+z+CPCXIU4L8PxdddNFFF/0/rH3D2jes/T9AnhLkKUH+P9a+Ye0b1v4/a9+w9g1r/z8AAAAAAAAAQEqQpwR5SgBAlSBPCfKUAEDfsPYNa98AQCpBnhLkKQFAddFFF110AUC/Ye0b1r4BQAnylCBPCQJAVII8JchTAkCeEuQpQZ4CQOmiiy666AJAMzMzMzMzA0B9w9o3rH0DQMhTgjwlyANAEuQpQZ4SBEBddNFFF10EQKcEeUqQpwRA8ZQgTwnyBEA9JchTgjwFQIe1b1j7hgVA0kUXXXTRBUAc1r5h7RsGQGdmZmZmZgZAsfYNa9+wBkD7hrVvWPsGQEYXXXTRRQdAkKcEeUqQB0DbN6x9w9oHQCXIU4I8JQhAb1j7hrVvCEC66KKLLroIQAR5SpCnBAlATwnylCBPCUCamZmZmZkJQOUpQZ4S5AlAL7rooosuCkB5SpCnBHkKQMTaN6x9wwpADmvfsPYNC0BZ+4a1b1gLQKOLLrroogtA7RvWvmHtC0A4rH3D2jcMQII8JchTggxAzMzMzMzMDEA=",
          "dtype": "f8"
         }
        },
        {
         "mode": "lines",
         "name": "Q",
         "type": "scatter",
         "x": {
          "bdata": "AAAAAAAAAAAIH3zwwQevPwgffPDBB78/RhdddNFFxz8IH3zwwQfPP2WTTTbZZNM/RhdddNFF1z8nm2yyySbbPwgffPDBB98/dNFFF1104T9lk0022WTjP1ZVVVVVVeU/RhdddNFF5z822WSTTTbpPyebbLLJJus/GF100UUX7T8IH3zwwQfvP3zwwQcffPA/dNFFF1108T9tsskmm2zyP2WTTTbZZPM/XXTRRRdd9D9WVVVVVVX1P0422WSTTfY/RhdddNFF9z8++OCDDz74PzbZZJNNNvk/L7rooosu+j8nm2yyySb7Px988MEHH/w/GF100UUX/T8QPvjggw/+PwgffPDBB/8/AAAAAAAAAEB88MEHH3wAQPjggw8++ABAdNFFF110AUDxwQcffPABQG2yySabbAJA6aKLLrroAkBlk0022WQDQOGDDz744ANAXXTRRRddBEDZZJNNNtkEQFZVVVVVVQVA0kUXXXTRBUBONtlkk00GQMomm2yyyQZARhdddNFFB0DCBx988MEHQD744IMPPghAuuiiiy66CEA22WSTTTYJQLPJJptssglAL7rooosuCkCrqqqqqqoKQCebbLLJJgtAo4suuuiiC0AffPDBBx8MQJtssskmmwxAGF100UUXDUCUTTbZZJMNQBA++OCDDw5AjC666KKLDkAIH3zwwQcPQIQPPvjggw9AAAAAAAAAEEA++OCDDz4QQHzwwQcffBBAuuiiiy66EED44IMPPvgQQDbZZJNNNhFAdNFFF110EUCzySabbLIRQPHBBx988BFAL7rooosuEkBtsskmm2wSQKuqqqqqqhJA6aKLLrroEkAnm2yyySYTQGWTTTbZZBNAo4suuuiiE0Dhgw8++OATQB988MEHHxRAXXTRRRddFECbbLLJJpsUQNlkk0022RRAF1100UUXFUBWVVVVVVUVQJRNNtlkkxVA0kUXXXTRFUAQPvjggw8WQE422WSTTRZAjC666KKLFkDKJptssskWQAgffPDBBxdARhdddNFFF0CEDz744IMXQMIHH3zwwRdAAAAAAAAAGEA=",
          "dtype": "f8"
         },
         "y": {
          "bdata": "AAAAAAAAAAAIH3zwwQevPwgffPDBB78/RhdddNFFxz8IH3zwwQfPP2WTTTbZZNM/RhdddNFF1z8nm2yyySbbPwgffPDBB98/dNFFF1104T9lk0022WTjP1ZVVVVVVeU/RhdddNFF5z822WSTTTbpPyebbLLJJus/GF100UUX7T8IH3zwwQfvP3zwwQcffPA/dNFFF1108T9tsskmm2zyP2WTTTbZZPM/XXTRRRdd9D9WVVVVVVX1P0422WSTTfY/RhdddNFF9z8++OCDDz74PzbZZJNNNvk/L7rooosu+j8nm2yyySb7Px988MEHH/w/GF100UUX/T8QPvjggw/+PwgffPDBB/8/AAAAAAAAAEB88MEHH3wAQPjggw8++ABAdNFFF110AUDxwQcffPABQG2yySabbAJA6aKLLrroAkBlk0022WQDQOGDDz744ANAXXTRRRddBEDZZJNNNtkEQFZVVVVVVQVA0kUXXXTRBUBONtlkk00GQMomm2yyyQZARhdddNFFB0DCBx988MEHQD744IMPPghAuuiiiy66CEA22WSTTTYJQLPJJptssglAL7rooosuCkCrqqqqqqoKQCebbLLJJgtAo4suuuiiC0AffPDBBx8MQJtssskmmwxAGF100UUXDUCUTTbZZJMNQBA++OCDDw5AjC666KKLDkAIH3zwwQcPQIQPPvjggw9AAAAAAAAAEEA++OCDDz4QQHzwwQcffBBAuuiiiy66EED44IMPPvgQQDbZZJNNNhFAdNFFF110EUCzySabbLIRQPHBBx988BFAL7rooosuEkBtsskmm2wSQKuqqqqqqhJA6aKLLrroEkAnm2yyySYTQGWTTTbZZBNAo4suuuiiE0Dhgw8++OATQB988MEHHxRAXXTRRRddFECbbLLJJpsUQNlkk0022RRAF1100UUXFUBWVVVVVVUVQJRNNtlkkxVA0kUXXXTRFUAQPvjggw8WQE422WSTTRZAjC666KKLFkDKJptssskWQAgffPDBBxdARhdddNFFF0CEDz744IMXQMIHH3zwwRdAAAAAAAAAGEA=",
          "dtype": "f8"
         }
        }
       ],
       "layout": {
        "template": {
         "data": {
          "bar": [
           {
            "error_x": {
             "color": "#2a3f5f"
            },
            "error_y": {
             "color": "#2a3f5f"
            },
            "marker": {
             "line": {
              "color": "#E5ECF6",
              "width": 0.5
             },
             "pattern": {
              "fillmode": "overlay",
              "size": 10,
              "solidity": 0.2
             }
            },
            "type": "bar"
           }
          ],
          "barpolar": [
           {
            "marker": {
             "line": {
              "color": "#E5ECF6",
              "width": 0.5
             },
             "pattern": {
              "fillmode": "overlay",
              "size": 10,
              "solidity": 0.2
             }
            },
            "type": "barpolar"
           }
          ],
          "carpet": [
           {
            "aaxis": {
             "endlinecolor": "#2a3f5f",
             "gridcolor": "white",
             "linecolor": "white",
             "minorgridcolor": "white",
             "startlinecolor": "#2a3f5f"
            },
            "baxis": {
             "endlinecolor": "#2a3f5f",
             "gridcolor": "white",
             "linecolor": "white",
             "minorgridcolor": "white",
             "startlinecolor": "#2a3f5f"
            },
            "type": "carpet"
           }
          ],
          "choropleth": [
           {
            "colorbar": {
             "outlinewidth": 0,
             "ticks": ""
            },
            "type": "choropleth"
           }
          ],
          "contour": [
           {
            "colorbar": {
             "outlinewidth": 0,
             "ticks": ""
            },
            "colorscale": [
             [
              0,
              "#0d0887"
             ],
             [
              0.1111111111111111,
              "#46039f"
             ],
             [
              0.2222222222222222,
              "#7201a8"
             ],
             [
              0.3333333333333333,
              "#9c179e"
             ],
             [
              0.4444444444444444,
              "#bd3786"
             ],
             [
              0.5555555555555556,
              "#d8576b"
             ],
             [
              0.6666666666666666,
              "#ed7953"
             ],
             [
              0.7777777777777778,
              "#fb9f3a"
             ],
             [
              0.8888888888888888,
              "#fdca26"
             ],
             [
              1,
              "#f0f921"
             ]
            ],
            "type": "contour"
           }
          ],
          "contourcarpet": [
           {
            "colorbar": {
             "outlinewidth": 0,
             "ticks": ""
            },
            "type": "contourcarpet"
           }
          ],
          "heatmap": [
           {
            "colorbar": {
             "outlinewidth": 0,
             "ticks": ""
            },
            "colorscale": [
             [
              0,
              "#0d0887"
             ],
             [
              0.1111111111111111,
              "#46039f"
             ],
             [
              0.2222222222222222,
              "#7201a8"
             ],
             [
              0.3333333333333333,
              "#9c179e"
             ],
             [
              0.4444444444444444,
              "#bd3786"
             ],
             [
              0.5555555555555556,
              "#d8576b"
             ],
             [
              0.6666666666666666,
              "#ed7953"
             ],
             [
              0.7777777777777778,
              "#fb9f3a"
             ],
             [
              0.8888888888888888,
              "#fdca26"
             ],
             [
              1,
              "#f0f921"
             ]
            ],
            "type": "heatmap"
           }
          ],
          "histogram": [
           {
            "marker": {
             "pattern": {
              "fillmode": "overlay",
              "size": 10,
              "solidity": 0.2
             }
            },
            "type": "histogram"
           }
          ],
          "histogram2d": [
           {
            "colorbar": {
             "outlinewidth": 0,
             "ticks": ""
            },
            "colorscale": [
             [
              0,
              "#0d0887"
             ],
             [
              0.1111111111111111,
              "#46039f"
             ],
             [
              0.2222222222222222,
              "#7201a8"
             ],
             [
              0.3333333333333333,
              "#9c179e"
             ],
             [
              0.4444444444444444,
              "#bd3786"
             ],
             [
              0.5555555555555556,
              "#d8576b"
             ],
             [
              0.6666666666666666,
              "#ed7953"
             ],
             [
              0.7777777777777778,
              "#fb9f3a"
             ],
             [
              0.8888888888888888,
              "#fdca26"
             ],
             [
              1,
              "#f0f921"
             ]
            ],
            "type": "histogram2d"
           }
          ],
          "histogram2dcontour": [
           {
            "colorbar": {
             "outlinewidth": 0,
             "ticks": ""
            },
            "colorscale": [
             [
              0,
              "#0d0887"
             ],
             [
              0.1111111111111111,
              "#46039f"
             ],
             [
              0.2222222222222222,
              "#7201a8"
             ],
             [
              0.3333333333333333,
              "#9c179e"
             ],
             [
              0.4444444444444444,
              "#bd3786"
             ],
             [
              0.5555555555555556,
              "#d8576b"
             ],
             [
              0.6666666666666666,
              "#ed7953"
             ],
             [
              0.7777777777777778,
              "#fb9f3a"
             ],
             [
              0.8888888888888888,
              "#fdca26"
             ],
             [
              1,
              "#f0f921"
             ]
            ],
            "type": "histogram2dcontour"
           }
          ],
          "mesh3d": [
           {
            "colorbar": {
             "outlinewidth": 0,
             "ticks": ""
            },
            "type": "mesh3d"
           }
          ],
          "parcoords": [
           {
            "line": {
             "colorbar": {
              "outlinewidth": 0,
              "ticks": ""
             }
            },
            "type": "parcoords"
           }
          ],
          "pie": [
           {
            "automargin": true,
            "type": "pie"
           }
          ],
          "scatter": [
           {
            "fillpattern": {
             "fillmode": "overlay",
             "size": 10,
             "solidity": 0.2
            },
            "type": "scatter"
           }
          ],
          "scatter3d": [
           {
            "line": {
             "colorbar": {
              "outlinewidth": 0,
              "ticks": ""
             }
            },
            "marker": {
             "colorbar": {
              "outlinewidth": 0,
              "ticks": ""
             }
            },
            "type": "scatter3d"
           }
          ],
          "scattercarpet": [
           {
            "marker": {
             "colorbar": {
              "outlinewidth": 0,
              "ticks": ""
             }
            },
            "type": "scattercarpet"
           }
          ],
          "scattergeo": [
           {
            "marker": {
             "colorbar": {
              "outlinewidth": 0,
              "ticks": ""
             }
            },
            "type": "scattergeo"
           }
          ],
          "scattergl": [
           {
            "marker": {
             "colorbar": {
              "outlinewidth": 0,
              "ticks": ""
             }
            },
            "type": "scattergl"
           }
          ],
          "scattermap": [
           {
            "marker": {
             "colorbar": {
              "outlinewidth": 0,
              "ticks": ""
             }
            },
            "type": "scattermap"
           }
          ],
          "scattermapbox": [
           {
            "marker": {
             "colorbar": {
              "outlinewidth": 0,
              "ticks": ""
             }
            },
            "type": "scattermapbox"
           }
          ],
          "scatterpolar": [
           {
            "marker": {
             "colorbar": {
              "outlinewidth": 0,
              "ticks": ""
             }
            },
            "type": "scatterpolar"
           }
          ],
          "scatterpolargl": [
           {
            "marker": {
             "colorbar": {
              "outlinewidth": 0,
              "ticks": ""
             }
            },
            "type": "scatterpolargl"
           }
          ],
          "scatterternary": [
           {
            "marker": {
             "colorbar": {
              "outlinewidth": 0,
              "ticks": ""
             }
            },
            "type": "scatterternary"
           }
          ],
          "surface": [
           {
            "colorbar": {
             "outlinewidth": 0,
             "ticks": ""
            },
            "colorscale": [
             [
              0,
              "#0d0887"
             ],
             [
              0.1111111111111111,
              "#46039f"
             ],
             [
              0.2222222222222222,
              "#7201a8"
             ],
             [
              0.3333333333333333,
              "#9c179e"
             ],
             [
              0.4444444444444444,
              "#bd3786"
             ],
             [
              0.5555555555555556,
              "#d8576b"
             ],
             [
              0.6666666666666666,
              "#ed7953"
             ],
             [
              0.7777777777777778,
              "#fb9f3a"
             ],
             [
              0.8888888888888888,
              "#fdca26"
             ],
             [
              1,
              "#f0f921"
             ]
            ],
            "type": "surface"
           }
          ],
          "table": [
           {
            "cells": {
             "fill": {
              "color": "#EBF0F8"
             },
             "line": {
              "color": "white"
             }
            },
            "header": {
             "fill": {
              "color": "#C8D4E3"
             },
             "line": {
              "color": "white"
             }
            },
            "type": "table"
           }
          ]
         },
         "layout": {
          "annotationdefaults": {
           "arrowcolor": "#2a3f5f",
           "arrowhead": 0,
           "arrowwidth": 1
          },
          "autotypenumbers": "strict",
          "coloraxis": {
           "colorbar": {
            "outlinewidth": 0,
            "ticks": ""
           }
          },
          "colorscale": {
           "diverging": [
            [
             0,
             "#8e0152"
            ],
            [
             0.1,
             "#c51b7d"
            ],
            [
             0.2,
             "#de77ae"
            ],
            [
             0.3,
             "#f1b6da"
            ],
            [
             0.4,
             "#fde0ef"
            ],
            [
             0.5,
             "#f7f7f7"
            ],
            [
             0.6,
             "#e6f5d0"
            ],
            [
             0.7,
             "#b8e186"
            ],
            [
             0.8,
             "#7fbc41"
            ],
            [
             0.9,
             "#4d9221"
            ],
            [
             1,
             "#276419"
            ]
           ],
           "sequential": [
            [
             0,
             "#0d0887"
            ],
            [
             0.1111111111111111,
             "#46039f"
            ],
            [
             0.2222222222222222,
             "#7201a8"
            ],
            [
             0.3333333333333333,
             "#9c179e"
            ],
            [
             0.4444444444444444,
             "#bd3786"
            ],
            [
             0.5555555555555556,
             "#d8576b"
            ],
            [
             0.6666666666666666,
             "#ed7953"
            ],
            [
             0.7777777777777778,
             "#fb9f3a"
            ],
            [
             0.8888888888888888,
             "#fdca26"
            ],
            [
             1,
             "#f0f921"
            ]
           ],
           "sequentialminus": [
            [
             0,
             "#0d0887"
            ],
            [
             0.1111111111111111,
             "#46039f"
            ],
            [
             0.2222222222222222,
             "#7201a8"
            ],
            [
             0.3333333333333333,
             "#9c179e"
            ],
            [
             0.4444444444444444,
             "#bd3786"
            ],
            [
             0.5555555555555556,
             "#d8576b"
            ],
            [
             0.6666666666666666,
             "#ed7953"
            ],
            [
             0.7777777777777778,
             "#fb9f3a"
            ],
            [
             0.8888888888888888,
             "#fdca26"
            ],
            [
             1,
             "#f0f921"
            ]
           ]
          },
          "colorway": [
           "#636efa",
           "#EF553B",
           "#00cc96",
           "#ab63fa",
           "#FFA15A",
           "#19d3f3",
           "#FF6692",
           "#B6E880",
           "#FF97FF",
           "#FECB52"
          ],
          "font": {
           "color": "#2a3f5f"
          },
          "geo": {
           "bgcolor": "white",
           "lakecolor": "white",
           "landcolor": "#E5ECF6",
           "showlakes": true,
           "showland": true,
           "subunitcolor": "white"
          },
          "hoverlabel": {
           "align": "left"
          },
          "hovermode": "closest",
          "mapbox": {
           "style": "light"
          },
          "paper_bgcolor": "white",
          "plot_bgcolor": "#E5ECF6",
          "polar": {
           "angularaxis": {
            "gridcolor": "white",
            "linecolor": "white",
            "ticks": ""
           },
           "bgcolor": "#E5ECF6",
           "radialaxis": {
            "gridcolor": "white",
            "linecolor": "white",
            "ticks": ""
           }
          },
          "scene": {
           "xaxis": {
            "backgroundcolor": "#E5ECF6",
            "gridcolor": "white",
            "gridwidth": 2,
            "linecolor": "white",
            "showbackground": true,
            "ticks": "",
            "zerolinecolor": "white"
           },
           "yaxis": {
            "backgroundcolor": "#E5ECF6",
            "gridcolor": "white",
            "gridwidth": 2,
            "linecolor": "white",
            "showbackground": true,
            "ticks": "",
            "zerolinecolor": "white"
           },
           "zaxis": {
            "backgroundcolor": "#E5ECF6",
            "gridcolor": "white",
            "gridwidth": 2,
            "linecolor": "white",
            "showbackground": true,
            "ticks": "",
            "zerolinecolor": "white"
           }
          },
          "shapedefaults": {
           "line": {
            "color": "#2a3f5f"
           }
          },
          "ternary": {
           "aaxis": {
            "gridcolor": "white",
            "linecolor": "white",
            "ticks": ""
           },
           "baxis": {
            "gridcolor": "white",
            "linecolor": "white",
            "ticks": ""
           },
           "bgcolor": "#E5ECF6",
           "caxis": {
            "gridcolor": "white",
            "linecolor": "white",
            "ticks": ""
           }
          },
          "title": {
           "x": 0.05
          },
          "xaxis": {
           "automargin": true,
           "gridcolor": "white",
           "linecolor": "white",
           "ticks": "",
           "title": {
            "standoff": 15
           },
           "zerolinecolor": "white",
           "zerolinewidth": 2
          },
          "yaxis": {
           "automargin": true,
           "gridcolor": "white",
           "linecolor": "white",
           "ticks": "",
           "title": {
            "standoff": 15
           },
           "zerolinecolor": "white",
           "zerolinewidth": 2
          }
         }
        },
        "title": {
         "text": "Expected Revenue"
        },
        "xaxis": {
         "title": {
          "text": "Spread"
         }
        },
        "yaxis": {
         "title": {
          "text": "Payoff"
         }
        }
       }
      }
     },
     "metadata": {},
     "output_type": "display_data"
    }
   ],
   "source": [
    "spread = np.linspace(0, 6, 100)\n",
    "\n",
    "fun = (1 - p_i) * p_lb(spread) * spread\n",
    "\n",
    "expected_revenue(spread, fun)"
   ]
  },
  {
   "cell_type": "markdown",
   "id": "2fc39ae1",
   "metadata": {},
   "source": [
    "#### Optimal Bid-Ask"
   ]
  },
  {
   "cell_type": "code",
   "execution_count": 21,
   "id": "6717674a",
   "metadata": {},
   "outputs": [
    {
     "name": "stdout",
     "output_type": "stream",
     "text": [
      "Ask opt: 23.43\n",
      "Bid opt: 16.45\n"
     ]
    }
   ],
   "source": [
    "ask,bid = optimize_bid_ask(S0, p_i, k, lam)\n",
    "\n",
    "print(f\"Ask opt: {ask:.2f}\")\n",
    "\n",
    "print(f\"Bid opt: {bid:.2f}\")"
   ]
  },
  {
   "cell_type": "code",
   "execution_count": 22,
   "id": "28a30c35",
   "metadata": {},
   "outputs": [
    {
     "data": {
      "application/vnd.plotly.v1+json": {
       "config": {
        "plotlyServerURL": "https://plot.ly"
       },
       "data": [
        {
         "mode": "lines",
         "name": "Price Distribution",
         "type": "scatter",
         "x": {
          "bdata": "AAAAAAAAJEDM2xkS83YkQJm3MyTm7SRAZZNNNtlkJUAxb2dIzNslQP1KgVq/UiZAyiabbLLJJkCWArV+pUAnQGLezpCYtydALrrooosuKED7lQK1fqUoQMdxHMdxHClAlE022WSTKUBgKVDrVwoqQCwFav1KgSpA+OCDDz74KkDEvJ0hMW8rQJGYtzMk5itAXXTRRRddLEAqUOtXCtQsQPYrBWr9Si1AwgcffPDBLUCO4ziO4zguQFq/UqDWry5AJ5tssskmL0DzdobEvJ0vQGApUOtXCjBARhdddNFFMEAsBWr9SoEwQBLzdobEvDBA+OCDDz74MEDezpCYtzMxQMS8nSExbzFAq6qqqqqqMUCRmLczJOYxQHeGxLydITJAXXTRRRddMkBDYt7OkJgyQCpQ61cK1DJAED744IMPM0D2KwVq/UozQNwZEvN2hjNAwgcffPDBM0Co9SsFav0zQI7jOI7jODRAdNFFF110NEBav1Kg1q80QECtXylQ6zRAJ5tssskmNUANiXk7Q2I1QPN2hsS8nTVA2WSTTTbZNUDAUqDWrxQ2QKZArV8pUDZAjC666KKLNkByHMdxHMc2QFgK1PqVAjdAPvjggw8+N0Ak5u0MiXk3QArU+pUCtTdA8MEHH3zwN0DWrxSo9Ss4QLydITFvZzhAo4suuuiiOECJeTtDYt44QG9nSMzbGTlAVlVVVVVVOUA8Q2LezpA5QCIxb2dIzDlACB988MEHOkDuDIl5O0M6QNT6lQK1fjpAuuiiiy66OkCg1q8UqPU6QIbEvJ0hMTtAbbLJJptsO0BToNavFKg7QDmO4ziO4ztAH3zwwQcfPEAFav1KgVo8QOtXCtT6lTxA0UUXXXTRPEC4MyTm7Qw9QJ4hMW9nSD1AhA8++OCDPUBq/UqBWr89QFDrVwrU+j1ANtlkk002PkAcx3Ecx3E+QAO1fqVArT5A6aKLLrroPkDPkJi3MyQ/QLV+pUCtXz9Am2yyySabP0CBWr9SoNY/QDQk5u0MCUBAJ5tssskmQEAaEvN2hkRAQA2JeTtDYkBAAAAAAACAQEA=",
          "dtype": "f8"
         },
         "y": {
          "bdata": "ZYWk+ob+xz4NWhakuSrXPqqjVR6ksuU+1WJvl0O98z61iQ4c8HYBPyIxFZlCFw4/AEfu+bJEGT9JsNkgWLQkP8f8Cl3fkTA/eoTXjIDtOT+10iKHH9lDP0FNt5/qwU0/fIN9eWTcVT+HcvzxBIBfP/dqmme3RWY/4OJyrvjtbj+k3hnAYhp1P9vUWpJMUHw/JP8EOoevgj+xVBALmkaIPxaPnB/8Do8/OqgR4k2Tkz+FkDBoxFKYP0pIEuTezZ0/HCuI9sEDoj/5MDuVTX6lP9d2OD+uUak/Hdd5/XN1rT8mhrr9zO6wP/Tark5WPbM/NK5NvA+dtT/2ZyhYaAO4P6KfN//ZZLo/xB/9bU61vD9IKG+Djui+P+ngrM9aecA/QtBRZVFkwT/AocvHMDDCPxQ4jIbC2MI/QtzQZ7hawz/617EexrPDPxUwrmWv4sM/AoUZUUrnwz/fY6hbdsLDPxb9rkgJdsM/MXN+crMEwz9Hj/Nx3XHCPy+4czyBwcE/KScl4AD4wD8Zu7ru/BnAP5Ftp+ZYWL4/tttKDXBmvD9yAtt6Mme6P/nh557+Yrg/y6rp73Jhtj+nk7ZxTmm0P8DcaLpcgLI/5wlWr2yrsD+FdT+lodytP2wvNW/Pl6o/w6zLHlaMpz8Cyilph7ykP7mZQlFCKaI/k8YUTUyknz8Uz+33jWubP+JH+N/Co5c/mC7gExhHlD8CCI66yU6RPwF6xybqZo0/vF9pMMDaiD/68/qTbOmEP7CmUG11g4E/l1zGu74zfT+0LxHD0zx4Pzi0v/l0B3Q/mZYV5PF6cD8aD2n8egFrP74P2YrwCGY/+60hGdPnYT+UZjf/r/tcP4gNPzpDXVc/2pFC6PHCUj8UfP5n/gNOP5b1MVN460c/D3z6ncf9Qj93Se8v7gs+P6BJoeftrjc/GiRpLgSaMj8t0ttWbB4tP+BowCWJtiY/iT3LMRWoIT/P9BiZOVwbP73hbjACIRU/HM2Ud5xDED9bRTbchPUIP2xPdd5UFwM//3iPNYId/T4uW1RMOyL2Pp4gEiSWxvA+PyLUeq5a6T4=",
          "dtype": "f8"
         }
        },
        {
         "line": {
          "color": "black",
          "dash": "dash",
          "width": 2
         },
         "mode": "lines",
         "name": "S0 = 19.90",
         "type": "scatter",
         "x": [
          19.9,
          19.9
         ],
         "y": [
          0,
          0.15549591979928584
         ]
        },
        {
         "line": {
          "color": "red",
          "dash": "dash",
          "width": 2
         },
         "mode": "lines",
         "name": "Ask = 23.43",
         "type": "scatter",
         "x": [
          23.42836702272305,
          23.42836702272305
         ],
         "y": [
          0,
          0.15549591979928584
         ]
        },
        {
         "line": {
          "color": "blue",
          "dash": "dash",
          "width": 2
         },
         "mode": "lines",
         "name": "Bid = 16.45",
         "type": "scatter",
         "x": [
          16.45141981862723,
          16.45141981862723
         ],
         "y": [
          0,
          0.15549591979928584
         ]
        }
       ],
       "layout": {
        "template": {
         "data": {
          "bar": [
           {
            "error_x": {
             "color": "#2a3f5f"
            },
            "error_y": {
             "color": "#2a3f5f"
            },
            "marker": {
             "line": {
              "color": "#E5ECF6",
              "width": 0.5
             },
             "pattern": {
              "fillmode": "overlay",
              "size": 10,
              "solidity": 0.2
             }
            },
            "type": "bar"
           }
          ],
          "barpolar": [
           {
            "marker": {
             "line": {
              "color": "#E5ECF6",
              "width": 0.5
             },
             "pattern": {
              "fillmode": "overlay",
              "size": 10,
              "solidity": 0.2
             }
            },
            "type": "barpolar"
           }
          ],
          "carpet": [
           {
            "aaxis": {
             "endlinecolor": "#2a3f5f",
             "gridcolor": "white",
             "linecolor": "white",
             "minorgridcolor": "white",
             "startlinecolor": "#2a3f5f"
            },
            "baxis": {
             "endlinecolor": "#2a3f5f",
             "gridcolor": "white",
             "linecolor": "white",
             "minorgridcolor": "white",
             "startlinecolor": "#2a3f5f"
            },
            "type": "carpet"
           }
          ],
          "choropleth": [
           {
            "colorbar": {
             "outlinewidth": 0,
             "ticks": ""
            },
            "type": "choropleth"
           }
          ],
          "contour": [
           {
            "colorbar": {
             "outlinewidth": 0,
             "ticks": ""
            },
            "colorscale": [
             [
              0,
              "#0d0887"
             ],
             [
              0.1111111111111111,
              "#46039f"
             ],
             [
              0.2222222222222222,
              "#7201a8"
             ],
             [
              0.3333333333333333,
              "#9c179e"
             ],
             [
              0.4444444444444444,
              "#bd3786"
             ],
             [
              0.5555555555555556,
              "#d8576b"
             ],
             [
              0.6666666666666666,
              "#ed7953"
             ],
             [
              0.7777777777777778,
              "#fb9f3a"
             ],
             [
              0.8888888888888888,
              "#fdca26"
             ],
             [
              1,
              "#f0f921"
             ]
            ],
            "type": "contour"
           }
          ],
          "contourcarpet": [
           {
            "colorbar": {
             "outlinewidth": 0,
             "ticks": ""
            },
            "type": "contourcarpet"
           }
          ],
          "heatmap": [
           {
            "colorbar": {
             "outlinewidth": 0,
             "ticks": ""
            },
            "colorscale": [
             [
              0,
              "#0d0887"
             ],
             [
              0.1111111111111111,
              "#46039f"
             ],
             [
              0.2222222222222222,
              "#7201a8"
             ],
             [
              0.3333333333333333,
              "#9c179e"
             ],
             [
              0.4444444444444444,
              "#bd3786"
             ],
             [
              0.5555555555555556,
              "#d8576b"
             ],
             [
              0.6666666666666666,
              "#ed7953"
             ],
             [
              0.7777777777777778,
              "#fb9f3a"
             ],
             [
              0.8888888888888888,
              "#fdca26"
             ],
             [
              1,
              "#f0f921"
             ]
            ],
            "type": "heatmap"
           }
          ],
          "histogram": [
           {
            "marker": {
             "pattern": {
              "fillmode": "overlay",
              "size": 10,
              "solidity": 0.2
             }
            },
            "type": "histogram"
           }
          ],
          "histogram2d": [
           {
            "colorbar": {
             "outlinewidth": 0,
             "ticks": ""
            },
            "colorscale": [
             [
              0,
              "#0d0887"
             ],
             [
              0.1111111111111111,
              "#46039f"
             ],
             [
              0.2222222222222222,
              "#7201a8"
             ],
             [
              0.3333333333333333,
              "#9c179e"
             ],
             [
              0.4444444444444444,
              "#bd3786"
             ],
             [
              0.5555555555555556,
              "#d8576b"
             ],
             [
              0.6666666666666666,
              "#ed7953"
             ],
             [
              0.7777777777777778,
              "#fb9f3a"
             ],
             [
              0.8888888888888888,
              "#fdca26"
             ],
             [
              1,
              "#f0f921"
             ]
            ],
            "type": "histogram2d"
           }
          ],
          "histogram2dcontour": [
           {
            "colorbar": {
             "outlinewidth": 0,
             "ticks": ""
            },
            "colorscale": [
             [
              0,
              "#0d0887"
             ],
             [
              0.1111111111111111,
              "#46039f"
             ],
             [
              0.2222222222222222,
              "#7201a8"
             ],
             [
              0.3333333333333333,
              "#9c179e"
             ],
             [
              0.4444444444444444,
              "#bd3786"
             ],
             [
              0.5555555555555556,
              "#d8576b"
             ],
             [
              0.6666666666666666,
              "#ed7953"
             ],
             [
              0.7777777777777778,
              "#fb9f3a"
             ],
             [
              0.8888888888888888,
              "#fdca26"
             ],
             [
              1,
              "#f0f921"
             ]
            ],
            "type": "histogram2dcontour"
           }
          ],
          "mesh3d": [
           {
            "colorbar": {
             "outlinewidth": 0,
             "ticks": ""
            },
            "type": "mesh3d"
           }
          ],
          "parcoords": [
           {
            "line": {
             "colorbar": {
              "outlinewidth": 0,
              "ticks": ""
             }
            },
            "type": "parcoords"
           }
          ],
          "pie": [
           {
            "automargin": true,
            "type": "pie"
           }
          ],
          "scatter": [
           {
            "fillpattern": {
             "fillmode": "overlay",
             "size": 10,
             "solidity": 0.2
            },
            "type": "scatter"
           }
          ],
          "scatter3d": [
           {
            "line": {
             "colorbar": {
              "outlinewidth": 0,
              "ticks": ""
             }
            },
            "marker": {
             "colorbar": {
              "outlinewidth": 0,
              "ticks": ""
             }
            },
            "type": "scatter3d"
           }
          ],
          "scattercarpet": [
           {
            "marker": {
             "colorbar": {
              "outlinewidth": 0,
              "ticks": ""
             }
            },
            "type": "scattercarpet"
           }
          ],
          "scattergeo": [
           {
            "marker": {
             "colorbar": {
              "outlinewidth": 0,
              "ticks": ""
             }
            },
            "type": "scattergeo"
           }
          ],
          "scattergl": [
           {
            "marker": {
             "colorbar": {
              "outlinewidth": 0,
              "ticks": ""
             }
            },
            "type": "scattergl"
           }
          ],
          "scattermap": [
           {
            "marker": {
             "colorbar": {
              "outlinewidth": 0,
              "ticks": ""
             }
            },
            "type": "scattermap"
           }
          ],
          "scattermapbox": [
           {
            "marker": {
             "colorbar": {
              "outlinewidth": 0,
              "ticks": ""
             }
            },
            "type": "scattermapbox"
           }
          ],
          "scatterpolar": [
           {
            "marker": {
             "colorbar": {
              "outlinewidth": 0,
              "ticks": ""
             }
            },
            "type": "scatterpolar"
           }
          ],
          "scatterpolargl": [
           {
            "marker": {
             "colorbar": {
              "outlinewidth": 0,
              "ticks": ""
             }
            },
            "type": "scatterpolargl"
           }
          ],
          "scatterternary": [
           {
            "marker": {
             "colorbar": {
              "outlinewidth": 0,
              "ticks": ""
             }
            },
            "type": "scatterternary"
           }
          ],
          "surface": [
           {
            "colorbar": {
             "outlinewidth": 0,
             "ticks": ""
            },
            "colorscale": [
             [
              0,
              "#0d0887"
             ],
             [
              0.1111111111111111,
              "#46039f"
             ],
             [
              0.2222222222222222,
              "#7201a8"
             ],
             [
              0.3333333333333333,
              "#9c179e"
             ],
             [
              0.4444444444444444,
              "#bd3786"
             ],
             [
              0.5555555555555556,
              "#d8576b"
             ],
             [
              0.6666666666666666,
              "#ed7953"
             ],
             [
              0.7777777777777778,
              "#fb9f3a"
             ],
             [
              0.8888888888888888,
              "#fdca26"
             ],
             [
              1,
              "#f0f921"
             ]
            ],
            "type": "surface"
           }
          ],
          "table": [
           {
            "cells": {
             "fill": {
              "color": "#EBF0F8"
             },
             "line": {
              "color": "white"
             }
            },
            "header": {
             "fill": {
              "color": "#C8D4E3"
             },
             "line": {
              "color": "white"
             }
            },
            "type": "table"
           }
          ]
         },
         "layout": {
          "annotationdefaults": {
           "arrowcolor": "#2a3f5f",
           "arrowhead": 0,
           "arrowwidth": 1
          },
          "autotypenumbers": "strict",
          "coloraxis": {
           "colorbar": {
            "outlinewidth": 0,
            "ticks": ""
           }
          },
          "colorscale": {
           "diverging": [
            [
             0,
             "#8e0152"
            ],
            [
             0.1,
             "#c51b7d"
            ],
            [
             0.2,
             "#de77ae"
            ],
            [
             0.3,
             "#f1b6da"
            ],
            [
             0.4,
             "#fde0ef"
            ],
            [
             0.5,
             "#f7f7f7"
            ],
            [
             0.6,
             "#e6f5d0"
            ],
            [
             0.7,
             "#b8e186"
            ],
            [
             0.8,
             "#7fbc41"
            ],
            [
             0.9,
             "#4d9221"
            ],
            [
             1,
             "#276419"
            ]
           ],
           "sequential": [
            [
             0,
             "#0d0887"
            ],
            [
             0.1111111111111111,
             "#46039f"
            ],
            [
             0.2222222222222222,
             "#7201a8"
            ],
            [
             0.3333333333333333,
             "#9c179e"
            ],
            [
             0.4444444444444444,
             "#bd3786"
            ],
            [
             0.5555555555555556,
             "#d8576b"
            ],
            [
             0.6666666666666666,
             "#ed7953"
            ],
            [
             0.7777777777777778,
             "#fb9f3a"
            ],
            [
             0.8888888888888888,
             "#fdca26"
            ],
            [
             1,
             "#f0f921"
            ]
           ],
           "sequentialminus": [
            [
             0,
             "#0d0887"
            ],
            [
             0.1111111111111111,
             "#46039f"
            ],
            [
             0.2222222222222222,
             "#7201a8"
            ],
            [
             0.3333333333333333,
             "#9c179e"
            ],
            [
             0.4444444444444444,
             "#bd3786"
            ],
            [
             0.5555555555555556,
             "#d8576b"
            ],
            [
             0.6666666666666666,
             "#ed7953"
            ],
            [
             0.7777777777777778,
             "#fb9f3a"
            ],
            [
             0.8888888888888888,
             "#fdca26"
            ],
            [
             1,
             "#f0f921"
            ]
           ]
          },
          "colorway": [
           "#636efa",
           "#EF553B",
           "#00cc96",
           "#ab63fa",
           "#FFA15A",
           "#19d3f3",
           "#FF6692",
           "#B6E880",
           "#FF97FF",
           "#FECB52"
          ],
          "font": {
           "color": "#2a3f5f"
          },
          "geo": {
           "bgcolor": "white",
           "lakecolor": "white",
           "landcolor": "#E5ECF6",
           "showlakes": true,
           "showland": true,
           "subunitcolor": "white"
          },
          "hoverlabel": {
           "align": "left"
          },
          "hovermode": "closest",
          "mapbox": {
           "style": "light"
          },
          "paper_bgcolor": "white",
          "plot_bgcolor": "#E5ECF6",
          "polar": {
           "angularaxis": {
            "gridcolor": "white",
            "linecolor": "white",
            "ticks": ""
           },
           "bgcolor": "#E5ECF6",
           "radialaxis": {
            "gridcolor": "white",
            "linecolor": "white",
            "ticks": ""
           }
          },
          "scene": {
           "xaxis": {
            "backgroundcolor": "#E5ECF6",
            "gridcolor": "white",
            "gridwidth": 2,
            "linecolor": "white",
            "showbackground": true,
            "ticks": "",
            "zerolinecolor": "white"
           },
           "yaxis": {
            "backgroundcolor": "#E5ECF6",
            "gridcolor": "white",
            "gridwidth": 2,
            "linecolor": "white",
            "showbackground": true,
            "ticks": "",
            "zerolinecolor": "white"
           },
           "zaxis": {
            "backgroundcolor": "#E5ECF6",
            "gridcolor": "white",
            "gridwidth": 2,
            "linecolor": "white",
            "showbackground": true,
            "ticks": "",
            "zerolinecolor": "white"
           }
          },
          "shapedefaults": {
           "line": {
            "color": "#2a3f5f"
           }
          },
          "ternary": {
           "aaxis": {
            "gridcolor": "white",
            "linecolor": "white",
            "ticks": ""
           },
           "baxis": {
            "gridcolor": "white",
            "linecolor": "white",
            "ticks": ""
           },
           "bgcolor": "#E5ECF6",
           "caxis": {
            "gridcolor": "white",
            "linecolor": "white",
            "ticks": ""
           }
          },
          "title": {
           "x": 0.05
          },
          "xaxis": {
           "automargin": true,
           "gridcolor": "white",
           "linecolor": "white",
           "ticks": "",
           "title": {
            "standoff": 15
           },
           "zerolinecolor": "white",
           "zerolinewidth": 2
          },
          "yaxis": {
           "automargin": true,
           "gridcolor": "white",
           "linecolor": "white",
           "ticks": "",
           "title": {
            "standoff": 15
           },
           "zerolinecolor": "white",
           "zerolinewidth": 2
          }
         }
        },
        "title": {
         "text": "Optimal Bid-Ask"
        },
        "xaxis": {
         "title": {
          "text": "S"
         }
        },
        "yaxis": {
         "title": {
          "text": "Probability Density"
         }
        }
       }
      }
     },
     "metadata": {},
     "output_type": "display_data"
    }
   ],
   "source": [
    "Bid_Ask(S, S0, ask, bid, ear)"
   ]
  },
  {
   "cell_type": "markdown",
   "id": "3dfa8df4",
   "metadata": {},
   "source": [
    "---"
   ]
  }
 ],
 "metadata": {
  "kernelspec": {
   "display_name": "Python 3",
   "language": "python",
   "name": "python3"
  },
  "language_info": {
   "codemirror_mode": {
    "name": "ipython",
    "version": 3
   },
   "file_extension": ".py",
   "mimetype": "text/x-python",
   "name": "python",
   "nbconvert_exporter": "python",
   "pygments_lexer": "ipython3",
   "version": "3.13.5"
  }
 },
 "nbformat": 4,
 "nbformat_minor": 5
}
